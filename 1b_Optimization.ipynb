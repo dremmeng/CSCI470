{
 "cells": [
  {
   "cell_type": "markdown",
   "metadata": {},
   "source": [
    "## CSCI 470 Activities and Case Studies\n",
    "\n",
    "1. For all activities, you are allowed to collaborate with a partner. \n",
    "1. For case studies, you should work individually and are **not** allowed to collaborate.\n",
    "\n",
    "By filling out this notebook and submitting it, you acknowledge that you are aware of the above policies and are agreeing to comply with them."
   ]
  },
  {
   "cell_type": "markdown",
   "metadata": {},
   "source": [
    "Some considerations with regard to how these notebooks will be graded:\n",
    "\n",
    "1. Cells in which \"# YOUR CODE HERE\" is found are the cells where your graded code should be written.\n",
    "2. In order to test out or debug your code you may also create notebook cells or edit existing notebook cells other than \"# YOUR CODE HERE\". We actually highly recommend you do so to gain a better understanding of what is happening. However, during grading, **these changes are ignored**. \n",
    "2. You must ensure that all your code for the particular task is available in the cells that say \"# YOUR CODE HERE\"\n",
    "3. Every cell that says \"# YOUR CODE HERE\" is followed by a \"raise NotImplementedError\". You need to remove that line. During grading, if an error occurs then you will not receive points for your work in that section.\n",
    "4. If your code passes the \"assert\" statements, then no output will result. If your code fails the \"assert\" statements, you will get an \"AssertionError\". Getting an assertion error means you will not receive points for that particular task.\n",
    "5. If you edit the \"assert\" statements to make your code pass, they will still fail when they are graded since the \"assert\" statements will revert to the original. Make sure you don't edit the assert statements.\n",
    "6. We may sometimes have \"hidden\" tests for grading. This means that passing the visible \"assert\" statements is not sufficient. The \"assert\" statements are there as a guide but you need to make sure you understand what you're required to do and ensure that you are doing it correctly. Passing the visible tests is necessary but not sufficient to get the grade for that cell.\n",
    "7. When you are asked to define a function, make sure you **don't** use any variables outside of the parameters passed to the function. You can think of the parameters being passed to the function as a hint. Make sure you're using all of those variables.\n",
    "8. Finally, **make sure you run \"Kernel > Restart and Run All\"** and pass all the asserts before submitting. If you don't restart the kernel, there may be some code that you ran and deleted that is still being used and that was why your asserts were passing."
   ]
  },
  {
   "cell_type": "markdown",
   "metadata": {
    "deletable": false,
    "editable": false,
    "nbgrader": {
     "cell_type": "markdown",
     "checksum": "2871507622dd2275db551fdc3d450282",
     "grade": false,
     "grade_id": "cell-ddf2cacd683df42a",
     "locked": true,
     "schema_version": 3,
     "solution": false,
     "task": false
    }
   },
   "source": [
    "## CSCI 470 Activities and Case Studies\n",
    "\n",
    "1. For all activities, you are allowed to collaborate with a partner. \n",
    "1. For case studies, you should work individually and are **not** allowed to collaborate.\n",
    "\n",
    "By filling out this notebook and submitting it, you acknowledge that you are aware of the above policies and are agreeing to comply with them."
   ]
  },
  {
   "cell_type": "markdown",
   "metadata": {
    "deletable": false,
    "editable": false,
    "nbgrader": {
     "cell_type": "markdown",
     "checksum": "3bbb092f9dda670ae5e600ef103fc13e",
     "grade": false,
     "grade_id": "cell-5c3ee5bb12251c38",
     "locked": true,
     "schema_version": 3,
     "solution": false
    }
   },
   "source": [
    "# Optimization & Linear Algebra Review\n",
    "\n",
    "In this exercise we will focus on the two main topics we covered in the lecture.\n",
    "\n",
    "## Linear Algebra\n",
    "\n",
    "In the lecture, with regards to Linear Algebra, we covered:\n",
    "\n",
    "- some notation that we use for linear algebra\n",
    "- special kinds of matrices\n",
    "- matrix properties and operations\n",
    "- norm definitions\n",
    "\n",
    "Now let's practice some of these. "
   ]
  },
  {
   "cell_type": "code",
   "execution_count": 71,
   "metadata": {
    "nbgrader": {
     "grade": false,
     "grade_id": "cell-76297faedae614aa",
     "locked": false,
     "schema_version": 3,
     "solution": false
    }
   },
   "outputs": [],
   "source": [
    "import numpy as np\n",
    "import matplotlib\n",
    "import matplotlib.pyplot as plt\n",
    "plt.style.use(\"ggplot\")"
   ]
  },
  {
   "cell_type": "markdown",
   "metadata": {
    "deletable": false,
    "editable": false,
    "nbgrader": {
     "cell_type": "markdown",
     "checksum": "115e889ba6e909d9bb1a1aa9f9fd2b52",
     "grade": false,
     "grade_id": "cell-490a5e9eb6aa86c4",
     "locked": true,
     "schema_version": 3,
     "solution": false
    }
   },
   "source": [
    "In numpy we can create a vector or matrix or tensor using the [`np.array`](https://docs.scipy.org/doc/numpy/reference/generated/numpy.array.html) object.\n",
    "\n",
    "An `np.array` stores data sequentially in computer memory (as opposed to randomly scattering data throughout computer memory) allowing them to take advantage of [spatial locality](https://en.wikipedia.org/wiki/Locality_of_reference). **Because of spatial locality, iterating through an `np.array` is much faster than iterating through a default Python array.**"
   ]
  },
  {
   "cell_type": "code",
   "execution_count": 72,
   "metadata": {
    "nbgrader": {
     "grade": false,
     "grade_id": "cell-ec73f64d4642033b",
     "locked": false,
     "schema_version": 3,
     "solution": false
    }
   },
   "outputs": [
    {
     "name": "stdout",
     "output_type": "stream",
     "text": [
      "[1 2 3]\n",
      "The shape of our vector is (3,)\n"
     ]
    }
   ],
   "source": [
    "vector = np.array([1,2,3])\n",
    "print(vector)\n",
    "print(f\"The shape of our vector is {vector.shape}\")"
   ]
  },
  {
   "cell_type": "code",
   "execution_count": 73,
   "metadata": {
    "nbgrader": {
     "grade": false,
     "grade_id": "cell-d86d8f801297b296",
     "locked": false,
     "schema_version": 3,
     "solution": false
    }
   },
   "outputs": [
    {
     "name": "stdout",
     "output_type": "stream",
     "text": [
      "[[1 2 3]\n",
      " [4 5 6]]\n",
      "The shape of our matrix is (2, 3)\n"
     ]
    }
   ],
   "source": [
    "matrix = np.array([\n",
    "    [1,2,3],\n",
    "    [4,5,6]\n",
    "])\n",
    "print(matrix)\n",
    "print(f\"The shape of our matrix is {matrix.shape}\")"
   ]
  },
  {
   "cell_type": "code",
   "execution_count": 74,
   "metadata": {
    "nbgrader": {
     "grade": false,
     "grade_id": "cell-259403e923fb8888",
     "locked": false,
     "schema_version": 3,
     "solution": false
    }
   },
   "outputs": [
    {
     "name": "stdout",
     "output_type": "stream",
     "text": [
      "[[[ 1  2  3]\n",
      "  [ 4  5  6]]\n",
      "\n",
      " [[ 7  8  9]\n",
      "  [10 11 12]]]\n",
      "The shape of our tensor is (2, 2, 3)\n"
     ]
    }
   ],
   "source": [
    "tensor = np.array([\n",
    "    [\n",
    "        [1,2,3],\n",
    "        [4,5,6]\n",
    "    ],\n",
    "    [\n",
    "        [7,8,9],\n",
    "        [10,11,12]\n",
    "    ]\n",
    "])\n",
    "print(tensor)\n",
    "print(f\"The shape of our tensor is {tensor.shape}\")"
   ]
  },
  {
   "cell_type": "markdown",
   "metadata": {
    "deletable": false,
    "editable": false,
    "nbgrader": {
     "cell_type": "markdown",
     "checksum": "06fe53124742adffc7784032d2f63ecb",
     "grade": false,
     "grade_id": "cell-abea5b78170e37b8",
     "locked": true,
     "schema_version": 3,
     "solution": false
    }
   },
   "source": [
    "### Products\n",
    "\n",
    "Let's try out some products now and check how they work. By default, numpy would do element wise multiplication if we use the `*` operator. Instead, we can use the [`@`](https://docs.python.org/3/library/operator.html#mapping-operators-to-functions) operator. (This is valid as of Python 3.5, otherwise you can use [`np.matmul`](https://docs.scipy.org/doc/numpy/reference/generated/numpy.matmul.html)).\n",
    "\n",
    "Let's start by making some vectors and matrices. "
   ]
  },
  {
   "cell_type": "code",
   "execution_count": 75,
   "metadata": {
    "nbgrader": {
     "grade": false,
     "grade_id": "cell-a0f3bf53ab8bacd1",
     "locked": false,
     "schema_version": 3,
     "solution": false
    }
   },
   "outputs": [],
   "source": [
    "x = np.array([[1,2,3]]) # a row vector\n",
    "y = np.array([[4],[5],[6]]) # a column vector"
   ]
  },
  {
   "cell_type": "code",
   "execution_count": 76,
   "metadata": {
    "nbgrader": {
     "grade": false,
     "grade_id": "cell-6f147aa13c09e78a",
     "locked": false,
     "schema_version": 3,
     "solution": false
    }
   },
   "outputs": [
    {
     "name": "stdout",
     "output_type": "stream",
     "text": [
      "[[1 2 3]]\n"
     ]
    }
   ],
   "source": [
    "print(x)"
   ]
  },
  {
   "cell_type": "code",
   "execution_count": 77,
   "metadata": {
    "nbgrader": {
     "grade": false,
     "grade_id": "cell-ab40a47b8abc6019",
     "locked": false,
     "schema_version": 3,
     "solution": false
    }
   },
   "outputs": [
    {
     "name": "stdout",
     "output_type": "stream",
     "text": [
      "[[4]\n",
      " [5]\n",
      " [6]]\n"
     ]
    }
   ],
   "source": [
    "print(y)"
   ]
  },
  {
   "cell_type": "markdown",
   "metadata": {
    "deletable": false,
    "editable": false,
    "nbgrader": {
     "cell_type": "markdown",
     "checksum": "dc08b90e842adfb00a8563e8be8d8fa5",
     "grade": false,
     "grade_id": "cell-fc80c9d5707cd675",
     "locked": true,
     "schema_version": 3,
     "solution": false
    }
   },
   "source": [
    "We can determine an array's dimensions by calling [`.shape`](https://docs.scipy.org/doc/numpy/reference/generated/numpy.ndarray.shape.html)."
   ]
  },
  {
   "cell_type": "code",
   "execution_count": 78,
   "metadata": {
    "nbgrader": {
     "grade": false,
     "grade_id": "cell-0905c1dbb30518b7",
     "locked": false,
     "schema_version": 3,
     "solution": false
    }
   },
   "outputs": [
    {
     "data": {
      "text/plain": [
       "((1, 3), (3, 1))"
      ]
     },
     "execution_count": 78,
     "metadata": {},
     "output_type": "execute_result"
    }
   ],
   "source": [
    "x.shape, y.shape"
   ]
  },
  {
   "cell_type": "markdown",
   "metadata": {
    "deletable": false,
    "editable": false,
    "nbgrader": {
     "cell_type": "markdown",
     "checksum": "4f1536c9abf692fa741a50b0efd224c3",
     "grade": false,
     "grade_id": "cell-480f03a8af18ee72",
     "locked": true,
     "schema_version": 3,
     "solution": false
    }
   },
   "source": [
    "Now let's try multiplying the two vectors to get their inner product. We'll also verify the result by manually calculating it."
   ]
  },
  {
   "cell_type": "code",
   "execution_count": 79,
   "metadata": {
    "nbgrader": {
     "grade": false,
     "grade_id": "cell-067233ddb9ced301",
     "locked": false,
     "schema_version": 3,
     "solution": false
    }
   },
   "outputs": [
    {
     "data": {
      "text/plain": [
       "(array([[32]]), 32)"
      ]
     },
     "execution_count": 79,
     "metadata": {},
     "output_type": "execute_result"
    }
   ],
   "source": [
    "x @ y, 1 * 4 + 2 * 5 + 3 * 6"
   ]
  },
  {
   "cell_type": "markdown",
   "metadata": {
    "deletable": false,
    "editable": false,
    "nbgrader": {
     "cell_type": "markdown",
     "checksum": "6c0fbe4b7c33f69d411d3a9c5297bd3d",
     "grade": false,
     "grade_id": "cell-b262141113422a11",
     "locked": true,
     "schema_version": 3,
     "solution": false
    }
   },
   "source": [
    "Now let's look at how transpose works. With numpy, you can access the transpose of a `np.array` by calling its [`.T`](https://docs.scipy.org/doc/numpy/reference/generated/numpy.ndarray.T.html) method or using [`np.transpose()`](https://docs.scipy.org/doc/numpy/reference/generated/numpy.transpose.html). For simplicity, we will use `.T`."
   ]
  },
  {
   "cell_type": "code",
   "execution_count": 80,
   "metadata": {},
   "outputs": [
    {
     "name": "stdout",
     "output_type": "stream",
     "text": [
      "[[1 2 3]]\n",
      "[[1]\n",
      " [2]\n",
      " [3]]\n"
     ]
    }
   ],
   "source": [
    "print(x)\n",
    "print(x.T)"
   ]
  },
  {
   "cell_type": "code",
   "execution_count": 81,
   "metadata": {
    "nbgrader": {
     "grade": false,
     "grade_id": "cell-7d55b138185aa845",
     "locked": false,
     "schema_version": 3,
     "solution": false
    }
   },
   "outputs": [
    {
     "data": {
      "text/plain": [
       "((1, 3), (3, 1))"
      ]
     },
     "execution_count": 81,
     "metadata": {},
     "output_type": "execute_result"
    }
   ],
   "source": [
    "x.shape, x.T.shape"
   ]
  },
  {
   "cell_type": "markdown",
   "metadata": {
    "deletable": false,
    "editable": false,
    "nbgrader": {
     "cell_type": "markdown",
     "checksum": "3b6e24174524b2ba3e1cc5829185feb2",
     "grade": false,
     "grade_id": "cell-90230bfff3ab622d",
     "locked": true,
     "schema_version": 3,
     "solution": false,
     "task": false
    }
   },
   "source": [
    "The transpose of a matrix is still a matrix. Therefore, two transposed matrices can still be multiplied together as long as their inner dimensions align."
   ]
  },
  {
   "cell_type": "code",
   "execution_count": 82,
   "metadata": {},
   "outputs": [
    {
     "data": {
      "text/plain": [
       "((3, 1), (1, 3))"
      ]
     },
     "execution_count": 82,
     "metadata": {},
     "output_type": "execute_result"
    }
   ],
   "source": [
    "x.T.shape, y.T.shape"
   ]
  },
  {
   "cell_type": "code",
   "execution_count": 83,
   "metadata": {
    "nbgrader": {
     "grade": false,
     "grade_id": "cell-768c024cfbe56406",
     "locked": false,
     "schema_version": 3,
     "solution": false
    }
   },
   "outputs": [
    {
     "data": {
      "text/plain": [
       "array([[ 4,  5,  6],\n",
       "       [ 8, 10, 12],\n",
       "       [12, 15, 18]])"
      ]
     },
     "execution_count": 83,
     "metadata": {},
     "output_type": "execute_result"
    }
   ],
   "source": [
    "z = x.T @ y.T\n",
    "z"
   ]
  },
  {
   "cell_type": "markdown",
   "metadata": {
    "deletable": false,
    "editable": false,
    "nbgrader": {
     "cell_type": "markdown",
     "checksum": "b715977ff064a50271aa99900fdc6141",
     "grade": false,
     "grade_id": "cell-68fbdc7e26e195f3",
     "locked": true,
     "schema_version": 3,
     "solution": false,
     "task": false
    }
   },
   "source": [
    "The resulting shape of a product matrix multiplication are the outside dimensions of the original matrices"
   ]
  },
  {
   "cell_type": "code",
   "execution_count": 84,
   "metadata": {},
   "outputs": [
    {
     "data": {
      "text/plain": [
       "(3, 3)"
      ]
     },
     "execution_count": 84,
     "metadata": {},
     "output_type": "execute_result"
    }
   ],
   "source": [
    "z.shape"
   ]
  },
  {
   "cell_type": "markdown",
   "metadata": {
    "deletable": false,
    "editable": false,
    "nbgrader": {
     "cell_type": "markdown",
     "checksum": "946077b1e1f7b514e3ec8b0011eac9fa",
     "grade": false,
     "grade_id": "cell-164e6abebb08eaf5",
     "locked": true,
     "schema_version": 3,
     "solution": false
    }
   },
   "source": [
    "In this next cell we can see that if the shapes of two different matrices do not align, the product will fail."
   ]
  },
  {
   "cell_type": "code",
   "execution_count": 85,
   "metadata": {
    "nbgrader": {
     "grade": false,
     "grade_id": "cell-538631ef3dd9eea9",
     "locked": false,
     "schema_version": 3,
     "solution": false
    }
   },
   "outputs": [
    {
     "name": "stdout",
     "output_type": "stream",
     "text": [
      "matmul: Input operand 1 has a mismatch in its core dimension 0, with gufunc signature (n?,k),(k,m?)->(n?,m?) (size 3 is different from 1)\n",
      "matmul: Input operand 1 has a mismatch in its core dimension 0, with gufunc signature (n?,k),(k,m?)->(n?,m?) (size 1 is different from 3)\n"
     ]
    }
   ],
   "source": [
    "try:\n",
    "    x.T @ y\n",
    "except Exception as e:\n",
    "    print(e)\n",
    "    \n",
    "try:\n",
    "    x @ y.T\n",
    "except Exception as e:\n",
    "    print(e)"
   ]
  },
  {
   "cell_type": "markdown",
   "metadata": {
    "deletable": false,
    "editable": false,
    "nbgrader": {
     "cell_type": "markdown",
     "checksum": "50b4a2b2f23588748a1543bd4df0ef58",
     "grade": false,
     "grade_id": "cell-88477de8d0d92c45",
     "locked": true,
     "schema_version": 3,
     "solution": false
    }
   },
   "source": [
    "Squeezing can be used to get rid of any unused dimensions (ie. dimensions whose shape = 1). This ensures a variable can be treated as a vector instead of a matrix with 1 row.\n",
    "\n",
    "For more information, check out the documentation for [`.squeeze`](https://docs.scipy.org/doc/numpy/reference/generated/numpy.squeeze.html)."
   ]
  },
  {
   "cell_type": "code",
   "execution_count": 86,
   "metadata": {},
   "outputs": [
    {
     "data": {
      "text/plain": [
       "(array([[1, 2, 3]]), array([1, 2, 3]))"
      ]
     },
     "execution_count": 86,
     "metadata": {},
     "output_type": "execute_result"
    }
   ],
   "source": [
    "x, x.squeeze()"
   ]
  },
  {
   "cell_type": "code",
   "execution_count": 87,
   "metadata": {
    "nbgrader": {
     "grade": false,
     "grade_id": "cell-936fe967d8555c17",
     "locked": false,
     "schema_version": 3,
     "solution": false
    }
   },
   "outputs": [
    {
     "data": {
      "text/plain": [
       "((1, 3), (3,))"
      ]
     },
     "execution_count": 87,
     "metadata": {},
     "output_type": "execute_result"
    }
   ],
   "source": [
    "x.shape, x.squeeze().shape"
   ]
  },
  {
   "cell_type": "markdown",
   "metadata": {
    "deletable": false,
    "editable": false,
    "nbgrader": {
     "cell_type": "markdown",
     "checksum": "1949fd362aca2c29ee5d6aa7a0bb8500",
     "grade": false,
     "grade_id": "cell-0e5234e187cdf699",
     "locked": true,
     "schema_version": 3,
     "solution": false,
     "task": false
    }
   },
   "source": [
    "Notice nothing happens to Z because it does not contain any unused dimensions"
   ]
  },
  {
   "cell_type": "code",
   "execution_count": 88,
   "metadata": {},
   "outputs": [
    {
     "data": {
      "text/plain": [
       "array([[ 4,  5,  6],\n",
       "       [ 8, 10, 12],\n",
       "       [12, 15, 18]])"
      ]
     },
     "execution_count": 88,
     "metadata": {},
     "output_type": "execute_result"
    }
   ],
   "source": [
    "z.squeeze()"
   ]
  },
  {
   "cell_type": "markdown",
   "metadata": {
    "deletable": false,
    "editable": false,
    "nbgrader": {
     "cell_type": "markdown",
     "checksum": "1801b71e39a0947c867b6854894d3c59",
     "grade": false,
     "grade_id": "cell-e91d93784bdf5ed6",
     "locked": true,
     "schema_version": 3,
     "solution": false,
     "task": false
    }
   },
   "source": [
    "When it is necessary to forcibly collapse a matrix into a single dimension, the `flatten` function can be used instead of `squeeze`"
   ]
  },
  {
   "cell_type": "code",
   "execution_count": 89,
   "metadata": {},
   "outputs": [
    {
     "data": {
      "text/plain": [
       "array([1, 2, 3])"
      ]
     },
     "execution_count": 89,
     "metadata": {},
     "output_type": "execute_result"
    }
   ],
   "source": [
    "# For `x`, flatten works the same as squeeze. They both remove the unused dimension\n",
    "x.flatten()"
   ]
  },
  {
   "cell_type": "code",
   "execution_count": 90,
   "metadata": {},
   "outputs": [
    {
     "data": {
      "text/plain": [
       "array([ 4,  5,  6,  8, 10, 12, 12, 15, 18])"
      ]
     },
     "execution_count": 90,
     "metadata": {},
     "output_type": "execute_result"
    }
   ],
   "source": [
    "# For `z`, flatten forces all values to be fit into a single dimension\n",
    "z.flatten()"
   ]
  },
  {
   "cell_type": "markdown",
   "metadata": {
    "deletable": false,
    "editable": false,
    "nbgrader": {
     "cell_type": "markdown",
     "checksum": "ae7ba3be617272720b19fc9d310d24bf",
     "grade": false,
     "grade_id": "cell-04c097ca2920f5c5",
     "locked": true,
     "schema_version": 3,
     "solution": false,
     "task": false
    }
   },
   "source": [
    "NumPy implements many functions that are also built into Python.\n",
    "\n",
    "When working with NumPy objects, both functions will work but it is always best to favor the NumPy implementations because they are much faster.\n",
    "\n",
    "A list of NumPy functions can be found [here](https://numpy.org/doc/stable/reference/routines.math.html)\n",
    "\n",
    "Check out how much faster the `np.sum` function is compared to Python's default `sum` function"
   ]
  },
  {
   "cell_type": "code",
   "execution_count": 91,
   "metadata": {},
   "outputs": [],
   "source": [
    "testing_vector = np.array(range(100))\n",
    "testing_vector_sum = np.sum(testing_vector)"
   ]
  },
  {
   "cell_type": "code",
   "execution_count": 92,
   "metadata": {},
   "outputs": [
    {
     "name": "stdout",
     "output_type": "stream",
     "text": [
      "4.73 μs ± 41.9 ns per loop (mean ± std. dev. of 7 runs, 100,000 loops each)\n"
     ]
    }
   ],
   "source": [
    "%%timeit\n",
    "assert sum(testing_vector) == testing_vector_sum"
   ]
  },
  {
   "cell_type": "code",
   "execution_count": 93,
   "metadata": {},
   "outputs": [
    {
     "name": "stdout",
     "output_type": "stream",
     "text": [
      "2.52 μs ± 12.5 ns per loop (mean ± std. dev. of 7 runs, 100,000 loops each)\n"
     ]
    }
   ],
   "source": [
    "%%timeit\n",
    "assert np.sum(testing_vector) == testing_vector_sum"
   ]
  },
  {
   "cell_type": "markdown",
   "metadata": {
    "deletable": false,
    "editable": false,
    "nbgrader": {
     "cell_type": "markdown",
     "checksum": "85e2de49161a5fdd9b455fb398c4a845",
     "grade": false,
     "grade_id": "cell-83447f44a6d79ac9",
     "locked": true,
     "schema_version": 3,
     "solution": false
    }
   },
   "source": [
    "Now let's move on to some exercises."
   ]
  },
  {
   "cell_type": "code",
   "execution_count": 94,
   "metadata": {
    "nbgrader": {
     "grade": false,
     "grade_id": "cell-8edd5450d369693b",
     "locked": false,
     "schema_version": 3,
     "solution": false
    }
   },
   "outputs": [
    {
     "data": {
      "text/plain": [
       "((2, 2), (2, 3))"
      ]
     },
     "execution_count": 94,
     "metadata": {},
     "output_type": "execute_result"
    }
   ],
   "source": [
    "X = np.array([\n",
    "    [1, 2],\n",
    "    [3, 4]\n",
    "])\n",
    "Y = np.array([\n",
    "    [1, 2, 3],\n",
    "    [4, 5, 6]\n",
    "])\n",
    "X.shape, Y.shape"
   ]
  },
  {
   "cell_type": "code",
   "execution_count": 95,
   "metadata": {
    "deletable": false,
    "nbgrader": {
     "cell_type": "code",
     "checksum": "8331c21a21a07f5352ac4d43ad5788b3",
     "grade": false,
     "grade_id": "cell-613462977968b2ef",
     "locked": false,
     "schema_version": 3,
     "solution": true
    }
   },
   "outputs": [
    {
     "name": "stdout",
     "output_type": "stream",
     "text": [
      "[[ 9 12 15]\n",
      " [19 26 33]]\n"
     ]
    }
   ],
   "source": [
    "\n",
    "out=X.dot(Y)\n",
    "print(out)"
   ]
  },
  {
   "cell_type": "code",
   "execution_count": 96,
   "metadata": {
    "deletable": false,
    "editable": false,
    "nbgrader": {
     "cell_type": "code",
     "checksum": "d70c21fcfb116025f9d6bf372632ce49",
     "grade": true,
     "grade_id": "cell-049e2d9010d235b1",
     "locked": true,
     "points": 10,
     "schema_version": 3,
     "solution": false
    }
   },
   "outputs": [],
   "source": [
    "assert out.shape == (2,3)\n",
    "assert out[0,0] == 1 * 1 + 2 * 4\n",
    "assert out[1,1] == 3 * 2 + 4 * 5"
   ]
  },
  {
   "cell_type": "code",
   "execution_count": 97,
   "metadata": {
    "nbgrader": {
     "grade": false,
     "grade_id": "cell-306e06d0009f2e3a",
     "locked": false,
     "schema_version": 3,
     "solution": false
    }
   },
   "outputs": [
    {
     "name": "stdout",
     "output_type": "stream",
     "text": [
      "The output shape of XY should be 2, 3\n",
      "It is in fact, (2, 3) \n"
     ]
    }
   ],
   "source": [
    "print(f\"The output shape of XY should be {X.shape[0]}, {Y.shape[1]}\")\n",
    "print(f\"It is in fact, {out.shape} \")"
   ]
  },
  {
   "cell_type": "markdown",
   "metadata": {
    "deletable": false,
    "editable": false,
    "nbgrader": {
     "cell_type": "markdown",
     "checksum": "47b7aa14564f13a04a0931af8e9f7685",
     "grade": false,
     "grade_id": "cell-0bc6146a3e43d909",
     "locked": true,
     "schema_version": 3,
     "solution": false
    }
   },
   "source": [
    "### Norms\n",
    "\n",
    "Now let's calculate the norms that we discussed in the lecture."
   ]
  },
  {
   "cell_type": "markdown",
   "metadata": {
    "deletable": false,
    "editable": false,
    "nbgrader": {
     "cell_type": "markdown",
     "checksum": "f6e13b69b3bd93a1b6a0032ac4c8a898",
     "grade": false,
     "grade_id": "cell-05bee9210bc40d3c",
     "locked": true,
     "schema_version": 3,
     "solution": false
    }
   },
   "source": [
    "#### Vector Norms\n",
    "\n",
    "First, let's calculate the $\\ell_1$ norm. We can calculate norms manually or using numpy's [`linalg.norm`](https://docs.scipy.org/doc/numpy/reference/generated/numpy.linalg.norm.html) method."
   ]
  },
  {
   "cell_type": "code",
   "execution_count": 98,
   "metadata": {
    "nbgrader": {
     "grade": false,
     "grade_id": "cell-dce2c5f53e609065",
     "locked": false,
     "schema_version": 3,
     "solution": false
    }
   },
   "outputs": [
    {
     "name": "stdout",
     "output_type": "stream",
     "text": [
      "6.0 6\n"
     ]
    }
   ],
   "source": [
    "ell_1_of_x = np.linalg.norm(x.squeeze(), 1)\n",
    "sum_of_abs_of_x = np.abs(x).sum() \n",
    "print(ell_1_of_x, sum_of_abs_of_x)"
   ]
  },
  {
   "cell_type": "markdown",
   "metadata": {
    "deletable": false,
    "editable": false,
    "nbgrader": {
     "cell_type": "markdown",
     "checksum": "9e26e7352f28cef64ee003e65601ca19",
     "grade": false,
     "grade_id": "cell-cedb89e4c49de0ca",
     "locked": true,
     "schema_version": 3,
     "solution": false
    }
   },
   "source": [
    "Now calculate the $\\ell_2$ norm of $\\mathbf{x}$, once using the norm function and compare it to calculating it manually. Check the shape of $\\mathbf{x}$ to make sure it is a vector. (You might need to use `.squeeze()`). "
   ]
  },
  {
   "cell_type": "code",
   "execution_count": 99,
   "metadata": {
    "deletable": false,
    "nbgrader": {
     "cell_type": "code",
     "checksum": "ee5f3889f6080918ab64934439bf9485",
     "grade": false,
     "grade_id": "cell-699b991ec4a0d632",
     "locked": false,
     "schema_version": 3,
     "solution": true
    }
   },
   "outputs": [],
   "source": [
    "manual_ell_2_of_x =0 \n",
    "for i in x:\n",
    "    manual_ell_2_of_x=manual_ell_2_of_x+ i**2\n",
    "manual_ell_2_of_x= manual_ell_2_of_x.sum()**(1/2)\n",
    "ell_2_of_x = np.linalg.norm(x.squeeze(), 2)\n"
   ]
  },
  {
   "cell_type": "code",
   "execution_count": 100,
   "metadata": {
    "deletable": false,
    "editable": false,
    "nbgrader": {
     "cell_type": "code",
     "checksum": "a2bf76f8538dd5a72f45ef25f117899a",
     "grade": true,
     "grade_id": "cell-fff606eac0bb19f1",
     "locked": true,
     "points": 5,
     "schema_version": 3,
     "solution": false
    }
   },
   "outputs": [],
   "source": [
    "assert ell_2_of_x == manual_ell_2_of_x"
   ]
  },
  {
   "cell_type": "markdown",
   "metadata": {
    "deletable": false,
    "editable": false,
    "nbgrader": {
     "cell_type": "markdown",
     "checksum": "d0f710fbe54f7915041a5aa995274acc",
     "grade": false,
     "grade_id": "cell-f6f33806eb0b3dee",
     "locked": true,
     "schema_version": 3,
     "solution": false
    }
   },
   "source": [
    "#### Matrix Norms\n",
    "\n",
    "Test the multiple definitions of the Frobenius norm."
   ]
  },
  {
   "cell_type": "code",
   "execution_count": 101,
   "metadata": {
    "nbgrader": {
     "grade": false,
     "grade_id": "cell-fccb8b7174999dd4",
     "locked": false,
     "schema_version": 3,
     "solution": false
    }
   },
   "outputs": [
    {
     "name": "stdout",
     "output_type": "stream",
     "text": [
      "5.477225575051661\n"
     ]
    }
   ],
   "source": [
    "# Here we calculate the Frobenius norm manually\n",
    "row_norms = []\n",
    "for row in X:\n",
    "    # Take norm of row and add it to our list of row norms\n",
    "    row_norms.append(np.linalg.norm(row.flatten(), 2))\n",
    "# Take norm of all row norms\n",
    "manual_norm_calculation = np.linalg.norm(row_norms)\n",
    "print(manual_norm_calculation)"
   ]
  },
  {
   "cell_type": "code",
   "execution_count": 102,
   "metadata": {
    "nbgrader": {
     "grade": false,
     "grade_id": "cell-ccbebf6e7267aa33",
     "locked": false,
     "schema_version": 3,
     "solution": false
    }
   },
   "outputs": [
    {
     "name": "stdout",
     "output_type": "stream",
     "text": [
      "5.477225575051661\n"
     ]
    }
   ],
   "source": [
    "# Here, we use matrix operations\n",
    "linalg_norm_calculation = np.sum(X**2)**0.5\n",
    "print(linalg_norm_calculation)"
   ]
  },
  {
   "cell_type": "code",
   "execution_count": 103,
   "metadata": {
    "nbgrader": {
     "grade": false,
     "grade_id": "cell-b457677d4a4ada9e",
     "locked": false,
     "schema_version": 3,
     "solution": false
    }
   },
   "outputs": [
    {
     "name": "stdout",
     "output_type": "stream",
     "text": [
      "5.477225575051661\n"
     ]
    }
   ],
   "source": [
    "# We can also call np.linalg.norm directly\n",
    "np_norm_calculation = np.linalg.norm(X)\n",
    "print(np_norm_calculation)"
   ]
  },
  {
   "cell_type": "code",
   "execution_count": 104,
   "metadata": {},
   "outputs": [],
   "source": [
    "assert manual_norm_calculation == np_norm_calculation == linalg_norm_calculation"
   ]
  },
  {
   "cell_type": "markdown",
   "metadata": {
    "deletable": false,
    "editable": false,
    "nbgrader": {
     "cell_type": "markdown",
     "checksum": "79d9f54ef86fc1e518b80ea6a8d005e3",
     "grade": false,
     "grade_id": "cell-8b50d209407cecf4",
     "locked": true,
     "schema_version": 3,
     "solution": false
    }
   },
   "source": [
    "The trace of a matrix is the sum of its diagonal.\n",
    "\n",
    "With numpy we can calculate the trace of a matrix using [`np.trace`](https://docs.scipy.org/doc/numpy/reference/generated/numpy.trace.html)."
   ]
  },
  {
   "cell_type": "code",
   "execution_count": 105,
   "metadata": {
    "nbgrader": {
     "grade": false,
     "grade_id": "cell-01eef4e18e96a01d",
     "locked": false,
     "schema_version": 3,
     "solution": false
    }
   },
   "outputs": [
    {
     "name": "stdout",
     "output_type": "stream",
     "text": [
      "[[1 2]\n",
      " [3 4]]\n"
     ]
    },
    {
     "data": {
      "text/plain": [
       "(np.int64(5), np.int64(5))"
      ]
     },
     "execution_count": 105,
     "metadata": {},
     "output_type": "execute_result"
    }
   ],
   "source": [
    "print(X)\n",
    "np.diag(X).sum(), np.trace(X)"
   ]
  },
  {
   "cell_type": "markdown",
   "metadata": {
    "deletable": false,
    "editable": false,
    "nbgrader": {
     "cell_type": "markdown",
     "checksum": "c881055647d677da20c2d561e6cba01c",
     "grade": false,
     "grade_id": "cell-e4ee63039f6af952",
     "locked": true,
     "schema_version": 3,
     "solution": false
    }
   },
   "source": [
    "With trace, we can calculate the Frobenius norm a fourth way using the following equation (assuming A contains all real numbers):\n",
    "\n",
    "$$||A_{m,n}||_F=\\sqrt{\\sum_{i=1}^m\\sum_{j=1}^n|a_{ij}|^2}=\\sqrt{Tr(A^{T}A)}$$"
   ]
  },
  {
   "cell_type": "code",
   "execution_count": 106,
   "metadata": {
    "nbgrader": {
     "grade": false,
     "grade_id": "cell-f74c4e676b78ff9b",
     "locked": false,
     "schema_version": 3,
     "solution": false
    }
   },
   "outputs": [],
   "source": [
    "trace_norm_calculation = np.trace(X @ X.T)**0.5"
   ]
  },
  {
   "cell_type": "code",
   "execution_count": 107,
   "metadata": {},
   "outputs": [],
   "source": [
    "assert manual_norm_calculation == np_norm_calculation == linalg_norm_calculation == trace_norm_calculation"
   ]
  },
  {
   "cell_type": "markdown",
   "metadata": {
    "deletable": false,
    "editable": false,
    "nbgrader": {
     "cell_type": "markdown",
     "checksum": "6b1ebdb8b6ee3ba7f7116c709ba9371d",
     "grade": false,
     "grade_id": "cell-b9a62e3210d26ecb",
     "locked": true,
     "schema_version": 3,
     "solution": false
    }
   },
   "source": [
    "### Special Matrices\n",
    "\n",
    "Here we'll investigate the identity matrix, diagonal matrices, and symmetric matrices."
   ]
  },
  {
   "cell_type": "markdown",
   "metadata": {
    "deletable": false,
    "editable": false,
    "nbgrader": {
     "cell_type": "markdown",
     "checksum": "3f6e776f856464db80ec2ca5099fe54b",
     "grade": false,
     "grade_id": "cell-8d9b8353a10a27ff",
     "locked": true,
     "schema_version": 3,
     "solution": false
    }
   },
   "source": [
    "You can create an identity matrix using [`np.eye`](https://docs.scipy.org/doc/numpy/reference/generated/numpy.eye.html)"
   ]
  },
  {
   "cell_type": "code",
   "execution_count": 108,
   "metadata": {
    "nbgrader": {
     "grade": false,
     "grade_id": "cell-f27b933c88f47ce1",
     "locked": false,
     "schema_version": 3,
     "solution": false
    }
   },
   "outputs": [
    {
     "data": {
      "text/plain": [
       "array([[1., 0., 0., 0., 0.],\n",
       "       [0., 1., 0., 0., 0.],\n",
       "       [0., 0., 1., 0., 0.],\n",
       "       [0., 0., 0., 1., 0.],\n",
       "       [0., 0., 0., 0., 1.]])"
      ]
     },
     "execution_count": 108,
     "metadata": {},
     "output_type": "execute_result"
    }
   ],
   "source": [
    "five_identity = np.eye(5)\n",
    "five_identity"
   ]
  },
  {
   "cell_type": "markdown",
   "metadata": {
    "deletable": false,
    "editable": false,
    "nbgrader": {
     "cell_type": "markdown",
     "checksum": "3c057b2cbc72f7045aba6fb83fb93b77",
     "grade": false,
     "grade_id": "cell-a62e1c74ee90ba2d",
     "locked": true,
     "schema_version": 3,
     "solution": false
    }
   },
   "source": [
    "[`np.diag`](https://docs.scipy.org/doc/numpy/reference/generated/numpy.diag.html) is used to either create a diagonal matrix or extract the diagonal of an existing matrix."
   ]
  },
  {
   "cell_type": "code",
   "execution_count": 109,
   "metadata": {
    "nbgrader": {
     "grade": false,
     "grade_id": "cell-9b0e2490ec5217fd",
     "locked": false,
     "schema_version": 3,
     "solution": false
    }
   },
   "outputs": [
    {
     "data": {
      "text/plain": [
       "array([[1, 0, 0, 0, 0],\n",
       "       [0, 2, 0, 0, 0],\n",
       "       [0, 0, 3, 0, 0],\n",
       "       [0, 0, 0, 4, 0],\n",
       "       [0, 0, 0, 0, 5]])"
      ]
     },
     "execution_count": 109,
     "metadata": {},
     "output_type": "execute_result"
    }
   ],
   "source": [
    "D = np.diag([1,2,3,4,5])\n",
    "D"
   ]
  },
  {
   "cell_type": "code",
   "execution_count": 110,
   "metadata": {
    "nbgrader": {
     "grade": false,
     "grade_id": "cell-1c3a67302f17a13a",
     "locked": false,
     "schema_version": 3,
     "solution": false
    }
   },
   "outputs": [
    {
     "data": {
      "text/plain": [
       "array([1., 1., 1., 1., 1.])"
      ]
     },
     "execution_count": 110,
     "metadata": {},
     "output_type": "execute_result"
    }
   ],
   "source": [
    "np.diag(five_identity)"
   ]
  },
  {
   "cell_type": "markdown",
   "metadata": {
    "deletable": false,
    "editable": false,
    "nbgrader": {
     "cell_type": "markdown",
     "checksum": "34f3f89b4ded0c9915b4c4bb974e88a3",
     "grade": false,
     "grade_id": "cell-24fe13e71812f70a",
     "locked": true,
     "schema_version": 3,
     "solution": false
    }
   },
   "source": [
    "We can check if a matrix is Symmetric by using [`np.all`](https://numpy.org/doc/stable/reference/generated/numpy.all.html) to check if it is equivalent to its transpose.\n",
    "\n",
    "Is a diagonal matrix symmetric?"
   ]
  },
  {
   "cell_type": "code",
   "execution_count": 111,
   "metadata": {
    "nbgrader": {
     "grade": false,
     "grade_id": "cell-e40cd544bc026eb1",
     "locked": false,
     "schema_version": 3,
     "solution": false
    }
   },
   "outputs": [
    {
     "name": "stdout",
     "output_type": "stream",
     "text": [
      "It is True that D is a symmetric matrix\n"
     ]
    }
   ],
   "source": [
    "print(f\"It is {np.all(D == D.T)} that D is a symmetric matrix\")"
   ]
  },
  {
   "cell_type": "code",
   "execution_count": 112,
   "metadata": {
    "nbgrader": {
     "grade": false,
     "grade_id": "cell-7185d891f53e6a13",
     "locked": false,
     "schema_version": 3,
     "solution": false
    }
   },
   "outputs": [
    {
     "name": "stdout",
     "output_type": "stream",
     "text": [
      "It is False that X is a symmetric matrix\n"
     ]
    }
   ],
   "source": [
    "print(f\"It is {np.all(X == X.T)} that X is a symmetric matrix\")"
   ]
  },
  {
   "cell_type": "markdown",
   "metadata": {
    "deletable": false,
    "editable": false,
    "nbgrader": {
     "cell_type": "markdown",
     "checksum": "5a49663bf9abe9476dd40f83749666e0",
     "grade": false,
     "grade_id": "cell-3eda10c67692d773",
     "locked": true,
     "schema_version": 3,
     "solution": false
    }
   },
   "source": [
    "We can calculate the rank of a matrix using [`np.linalg.matrix_rank`](https://docs.scipy.org/doc/numpy-1.14.0/reference/generated/numpy.linalg.matrix_rank.html)."
   ]
  },
  {
   "cell_type": "code",
   "execution_count": 113,
   "metadata": {
    "nbgrader": {
     "grade": false,
     "grade_id": "cell-c21ee304e791e8a2",
     "locked": false,
     "schema_version": 3,
     "solution": false
    }
   },
   "outputs": [
    {
     "data": {
      "text/plain": [
       "np.int64(2)"
      ]
     },
     "execution_count": 113,
     "metadata": {},
     "output_type": "execute_result"
    }
   ],
   "source": [
    "np.linalg.matrix_rank(X)"
   ]
  },
  {
   "cell_type": "code",
   "execution_count": 114,
   "metadata": {
    "nbgrader": {
     "grade": false,
     "grade_id": "cell-bac54b7f0f21347f",
     "locked": false,
     "schema_version": 3,
     "solution": false
    }
   },
   "outputs": [
    {
     "data": {
      "text/plain": [
       "np.int64(5)"
      ]
     },
     "execution_count": 114,
     "metadata": {},
     "output_type": "execute_result"
    }
   ],
   "source": [
    "np.linalg.matrix_rank(five_identity)"
   ]
  },
  {
   "cell_type": "code",
   "execution_count": 115,
   "metadata": {
    "nbgrader": {
     "grade": false,
     "grade_id": "cell-adfab159c927ec00",
     "locked": false,
     "schema_version": 3,
     "solution": false
    }
   },
   "outputs": [
    {
     "data": {
      "text/plain": [
       "np.int64(1)"
      ]
     },
     "execution_count": 115,
     "metadata": {},
     "output_type": "execute_result"
    }
   ],
   "source": [
    "np.linalg.matrix_rank(np.array([\n",
    "    [1, 2, 3],\n",
    "    [2, 4, 6]\n",
    "]))"
   ]
  },
  {
   "cell_type": "code",
   "execution_count": 116,
   "metadata": {
    "nbgrader": {
     "grade": false,
     "grade_id": "cell-b22277caedf82091",
     "locked": false,
     "schema_version": 3,
     "solution": false
    }
   },
   "outputs": [
    {
     "data": {
      "text/plain": [
       "np.int64(2)"
      ]
     },
     "execution_count": 116,
     "metadata": {},
     "output_type": "execute_result"
    }
   ],
   "source": [
    "np.linalg.matrix_rank(np.array([\n",
    "    [1, 2, 4],\n",
    "    [2, 4, 6]\n",
    "]))"
   ]
  },
  {
   "cell_type": "markdown",
   "metadata": {
    "deletable": false,
    "editable": false,
    "nbgrader": {
     "cell_type": "markdown",
     "checksum": "1ec195cc31ca8616fc4763dbb28bb001",
     "grade": false,
     "grade_id": "cell-6696b1cd99c70c35",
     "locked": true,
     "schema_version": 3,
     "solution": false
    }
   },
   "source": [
    "Ensure these numbers make sense to you based on your conception of rank."
   ]
  },
  {
   "cell_type": "markdown",
   "metadata": {
    "deletable": false,
    "editable": false,
    "nbgrader": {
     "cell_type": "markdown",
     "checksum": "27b585b721eef37bcda419bd5072b562",
     "grade": false,
     "grade_id": "cell-7d3d8ac8c5368d1e",
     "locked": true,
     "schema_version": 3,
     "solution": false
    }
   },
   "source": [
    "## Decomposition\n",
    "\n",
    "Now let's look at decomposing a matrix into multiple matrices. We have two main methods of doing so. Singular Value Decomposition works on all matrices and eigenvalue decomposition works on square matrices.\n",
    "\n",
    "We can use [`linalg.svd`](https://docs.scipy.org/doc/numpy-1.14.0/reference/generated/numpy.linalg.svd.html) to calculate the SVD of a matrix and [`linalg.eig`](https://docs.scipy.org/doc/numpy-1.14.0/reference/generated/numpy.linalg.eig.html) to form the eigenvalue decomposition of a square matrix"
   ]
  },
  {
   "cell_type": "code",
   "execution_count": 117,
   "metadata": {
    "nbgrader": {
     "grade": false,
     "grade_id": "cell-116eebdb1023e6c9",
     "locked": false,
     "schema_version": 3,
     "solution": false
    }
   },
   "outputs": [
    {
     "name": "stdout",
     "output_type": "stream",
     "text": [
      "[[-0.3863177  -0.92236578]\n",
      " [-0.92236578  0.3863177 ]]\n",
      "[[-0.42866713  0.80596391  0.40824829]\n",
      " [-0.56630692  0.11238241 -0.81649658]\n",
      " [-0.7039467  -0.58119908  0.40824829]]\n",
      "[9.508032   0.77286964]\n"
     ]
    },
    {
     "data": {
      "text/plain": [
       "(array([[ 1.00000000e+00, -8.49433239e-18],\n",
       "        [-8.49433239e-18,  1.00000000e+00]]),\n",
       " array([[ 1.00000000e+00, -8.49433239e-18],\n",
       "        [-8.49433239e-18,  1.00000000e+00]]),\n",
       " array([[1.00000000e+00, 1.16059657e-16, 9.83171390e-17],\n",
       "        [1.16059657e-16, 1.00000000e+00, 4.58633852e-19],\n",
       "        [9.83171390e-17, 4.58633852e-19, 1.00000000e+00]]),\n",
       " array([[ 1.00000000e+00,  4.13108370e-17,  2.21870637e-17],\n",
       "        [ 4.13108370e-17,  1.00000000e+00, -1.77008767e-16],\n",
       "        [ 2.21870637e-17, -1.77008767e-16,  1.00000000e+00]]))"
      ]
     },
     "execution_count": 117,
     "metadata": {},
     "output_type": "execute_result"
    }
   ],
   "source": [
    "U, Sigma, VT = np.linalg.svd(Y)\n",
    "V = VT.T\n",
    "print(U)\n",
    "print(V)\n",
    "print(Sigma)\n",
    "U@U.T, U.T @ U, V@V.T, V.T @ V"
   ]
  },
  {
   "cell_type": "markdown",
   "metadata": {
    "deletable": false,
    "editable": false,
    "nbgrader": {
     "cell_type": "markdown",
     "checksum": "145e15752ac0f286f3c12aeaed259f8f",
     "grade": false,
     "grade_id": "cell-0b57fad13a05d006",
     "locked": true,
     "schema_version": 3,
     "solution": false
    }
   },
   "source": [
    "Check the orthogonality of the resulting matrices."
   ]
  },
  {
   "cell_type": "code",
   "execution_count": 118,
   "metadata": {
    "nbgrader": {
     "grade": false,
     "grade_id": "cell-227f9de1eea2e6de",
     "locked": false,
     "schema_version": 3,
     "solution": false
    }
   },
   "outputs": [
    {
     "data": {
      "text/plain": [
       "(array([[ 1.00000000e+00, -8.49433239e-18],\n",
       "        [-8.49433239e-18,  1.00000000e+00]]),\n",
       " array([[ 1.00000000e+00, -8.49433239e-18],\n",
       "        [-8.49433239e-18,  1.00000000e+00]]),\n",
       " array([[1.00000000e+00, 1.16059657e-16, 9.83171390e-17],\n",
       "        [1.16059657e-16, 1.00000000e+00, 4.58633852e-19],\n",
       "        [9.83171390e-17, 4.58633852e-19, 1.00000000e+00]]),\n",
       " array([[ 1.00000000e+00,  4.13108370e-17,  2.21870637e-17],\n",
       "        [ 4.13108370e-17,  1.00000000e+00, -1.77008767e-16],\n",
       "        [ 2.21870637e-17, -1.77008767e-16,  1.00000000e+00]]))"
      ]
     },
     "execution_count": 118,
     "metadata": {},
     "output_type": "execute_result"
    }
   ],
   "source": [
    "U@U.T, U.T @ U, V@V.T, V.T @ V"
   ]
  },
  {
   "cell_type": "markdown",
   "metadata": {
    "deletable": false,
    "editable": false,
    "nbgrader": {
     "cell_type": "markdown",
     "checksum": "810f22b839dd8db23bfc586363cee448",
     "grade": false,
     "grade_id": "cell-3f97408d9b50ed75",
     "locked": true,
     "schema_version": 3,
     "solution": false
    }
   },
   "source": [
    "Let's create a symmetric matrix $\\mathbf{S}$ to verify SVD's equivalence to eigenvalue decomposition when the matrix is symmetric."
   ]
  },
  {
   "cell_type": "code",
   "execution_count": 119,
   "metadata": {
    "nbgrader": {
     "grade": false,
     "grade_id": "cell-384d6d71a540eba5",
     "locked": false,
     "schema_version": 3,
     "solution": false
    }
   },
   "outputs": [],
   "source": [
    "S = np.array([\n",
    "    [1, 7, 6],\n",
    "    [7, 3, 5],\n",
    "    [6, 5, 9]\n",
    "])"
   ]
  },
  {
   "cell_type": "code",
   "execution_count": 120,
   "metadata": {
    "nbgrader": {
     "grade": false,
     "grade_id": "cell-98358611208e7211",
     "locked": false,
     "schema_version": 3,
     "solution": false
    }
   },
   "outputs": [
    {
     "name": "stdout",
     "output_type": "stream",
     "text": [
      "[[-0.49359494  0.79161173 -0.36015956]\n",
      " [-0.5071001  -0.5984062  -0.62028985]\n",
      " [-0.70655044 -0.12353498  0.69679666]]\n",
      "[[-0.49359494 -0.79161173 -0.36015956]\n",
      " [-0.5071001   0.5984062  -0.62028985]\n",
      " [-0.70655044  0.12353498  0.69679666]]\n",
      "[16.78015247  5.22786793  1.44771546]\n"
     ]
    }
   ],
   "source": [
    "U, Sigma, VT = np.linalg.svd(S)\n",
    "V = VT.T\n",
    "print(U)\n",
    "print(V)\n",
    "print(Sigma)"
   ]
  },
  {
   "cell_type": "code",
   "execution_count": 121,
   "metadata": {
    "deletable": false,
    "nbgrader": {
     "cell_type": "code",
     "checksum": "85b5d56eba8c52b860e3cd7fd20c3ce1",
     "grade": false,
     "grade_id": "cell-da850a693bb7be9c",
     "locked": false,
     "schema_version": 3,
     "solution": true
    }
   },
   "outputs": [],
   "source": [
    "eig_vals, eig_vecs = np.linalg.eig(S)\n"
   ]
  },
  {
   "cell_type": "code",
   "execution_count": 122,
   "metadata": {
    "deletable": false,
    "editable": false,
    "nbgrader": {
     "cell_type": "code",
     "checksum": "cc191190b094f50eac9f1be269991b54",
     "grade": true,
     "grade_id": "cell-0078b327366d23e9",
     "locked": true,
     "points": 5,
     "schema_version": 3,
     "solution": false
    }
   },
   "outputs": [],
   "source": [
    "assert eig_vals.shape == (3,)\n",
    "assert eig_vecs.shape == (3,3)"
   ]
  },
  {
   "cell_type": "markdown",
   "metadata": {
    "deletable": false,
    "editable": false,
    "nbgrader": {
     "cell_type": "markdown",
     "checksum": "611def9dd839082c6d66af2e7631cf15",
     "grade": false,
     "grade_id": "cell-ed87420970917ba4",
     "locked": true,
     "schema_version": 3,
     "solution": false
    }
   },
   "source": [
    "Verify some properties of eigenvalues for square matrices."
   ]
  },
  {
   "cell_type": "code",
   "execution_count": 70,
   "metadata": {
    "nbgrader": {
     "grade": false,
     "grade_id": "cell-087b2bf4330d2796",
     "locked": false,
     "schema_version": 3,
     "solution": false
    }
   },
   "outputs": [
    {
     "data": {
      "text/plain": [
       "(array([281.57351691,  27.33060305,   2.09588004]),\n",
       " array([281.57351691,  27.33060305,   2.09588004]),\n",
       " array([281.57351691,  27.33060305,   2.09588004]))"
      ]
     },
     "execution_count": 70,
     "metadata": {},
     "output_type": "execute_result"
    }
   ],
   "source": [
    "np.linalg.eigvals(S.T @ S), np.linalg.eigvals(S @ S.T), np.linalg.eigvals(S) ** 2"
   ]
  },
  {
   "cell_type": "markdown",
   "metadata": {
    "deletable": false,
    "editable": false,
    "nbgrader": {
     "cell_type": "markdown",
     "checksum": "b7cb3f26421a2d16041c0b03992a6184",
     "grade": false,
     "grade_id": "cell-2359c7f5133500f6",
     "locked": true,
     "schema_version": 3,
     "solution": false,
     "task": false
    }
   },
   "source": [
    "Congratualtions, you made it!\n",
    "\n",
    "If after these exercises you're realizing that your knowledge of linear algebra is a little rusty, consider diving down a YouTube rabbit hole starting with [this excellent video](https://www.youtube.com/watch?v=PFDu9oVAE-g). It's a lot more fun to admire the subtle beauty of math when a stressful due date isn't looming.\n",
    "\n",
    "With that being said, we won't spend too much more time on Linear Algebra in this class.\n",
    "\n",
    "But, gaining an intuition for it promotes a pretty cool conception for thinking about multi-dimensional space. The notation is impressively succinct and it will become very relevant in the later math classes on the CSCI + Data Science track (*cough* Multivariate Analysis *cough*)."
   ]
  },
  {
   "cell_type": "markdown",
   "metadata": {
    "deletable": false,
    "editable": false,
    "nbgrader": {
     "cell_type": "markdown",
     "checksum": "06592d27996690c948e9f6d1e341c8dc",
     "grade": false,
     "grade_id": "cell-1280c87e936562eb",
     "locked": true,
     "schema_version": 3,
     "solution": false
    }
   },
   "source": [
    "## Feedback"
   ]
  }
 ],
 "metadata": {
  "kernelspec": {
   "display_name": "Python 3",
   "language": "python",
   "name": "python3"
  },
  "language_info": {
   "codemirror_mode": {
    "name": "ipython",
    "version": 3
   },
   "file_extension": ".py",
   "mimetype": "text/x-python",
   "name": "python",
   "nbconvert_exporter": "python",
   "pygments_lexer": "ipython3",
   "version": "3.11.9"
  }
 },
 "nbformat": 4,
 "nbformat_minor": 2
}
