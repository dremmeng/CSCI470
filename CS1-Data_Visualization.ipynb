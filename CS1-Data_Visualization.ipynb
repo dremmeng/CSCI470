{
 "cells": [
  {
   "cell_type": "markdown",
   "metadata": {},
   "source": [
    "## CSCI 470 Activities and Case Studies\n",
    "\n",
    "1. For all activities, you are allowed to collaborate with a partner. \n",
    "1. For case studies, you should work individually and are **not** allowed to collaborate.\n",
    "\n",
    "By filling out this notebook and submitting it, you acknowledge that you are aware of the above policies and are agreeing to comply with them."
   ]
  },
  {
   "cell_type": "markdown",
   "metadata": {},
   "source": [
    "Some considerations with regard to how these notebooks will be graded:\n",
    "\n",
    "1. Cells in which \"# YOUR CODE HERE\" is found are the cells where your graded code should be written.\n",
    "2. In order to test out or debug your code you may also create notebook cells or edit existing notebook cells other than \"# YOUR CODE HERE\". We actually highly recommend you do so to gain a better understanding of what is happening. However, during grading, **these changes are ignored**. \n",
    "2. You must ensure that all your code for the particular task is available in the cells that say \"# YOUR CODE HERE\"\n",
    "3. Every cell that says \"# YOUR CODE HERE\" is followed by a \"raise NotImplementedError\". You need to remove that line. During grading, if an error occurs then you will not receive points for your work in that section.\n",
    "4. If your code passes the \"assert\" statements, then no output will result. If your code fails the \"assert\" statements, you will get an \"AssertionError\". Getting an assertion error means you will not receive points for that particular task.\n",
    "5. If you edit the \"assert\" statements to make your code pass, they will still fail when they are graded since the \"assert\" statements will revert to the original. Make sure you don't edit the assert statements.\n",
    "6. We may sometimes have \"hidden\" tests for grading. This means that passing the visible \"assert\" statements is not sufficient. The \"assert\" statements are there as a guide but you need to make sure you understand what you're required to do and ensure that you are doing it correctly. Passing the visible tests is necessary but not sufficient to get the grade for that cell.\n",
    "7. When you are asked to define a function, make sure you **don't** use any variables outside of the parameters passed to the function. You can think of the parameters being passed to the function as a hint. Make sure you're using all of those variables.\n",
    "8. Finally, **make sure you run \"Kernel > Restart and Run All\"** and pass all the asserts before submitting. If you don't restart the kernel, there may be some code that you ran and deleted that is still being used and that was why your asserts were passing."
   ]
  },
  {
   "cell_type": "markdown",
   "metadata": {
    "nbpresent": {
     "id": "02b7d99e-4b8f-4583-9ca4-18e6c07e7392"
    },
    "slideshow": {
     "slide_type": "slide"
    }
   },
   "source": [
    "# Data Visualization\n",
    "\n",
    "## What is a data visualization?\n",
    "\n",
    "> A visualization is any kind of visual representation of information designed to enable communication, analysis, discovery, exploration, etc.\n",
    "\n",
    "> A data visualization is a display of data designed to enable analysis, exploration, and discovery.\n",
    "\n",
    "\n",
    "Cairo, Alberto (2016-02-08). The Truthful Art: Data, Charts, and Maps for Communication"
   ]
  },
  {
   "cell_type": "markdown",
   "metadata": {
    "slideshow": {
     "slide_type": "slide"
    }
   },
   "source": [
    "## Importance of data visualizations\n",
    "\n",
    "Most people think that descriptive statistics are sufficient to fully understand your data. Unfortunately this is not true. Descriptive statistics can be very misleading and data visualizations can help us uncover some insights."
   ]
  },
  {
   "cell_type": "code",
   "execution_count": null,
   "metadata": {
    "slideshow": {
     "slide_type": "slide"
    }
   },
   "outputs": [],
   "source": [
    "import matplotlib.pyplot as plt\n",
    "import numpy as np\n",
    "import pandas as pd\n",
    "%matplotlib inline\n",
    "plt.style.use(\"ggplot\")"
   ]
  },
  {
   "cell_type": "markdown",
   "metadata": {},
   "source": [
    "The data below is called Anscombe's quartet. It contains 4 different datasets (one, two, three, four) and each one has x and y values."
   ]
  },
  {
   "cell_type": "code",
   "execution_count": null,
   "metadata": {
    "slideshow": {
     "slide_type": "slide"
    }
   },
   "outputs": [],
   "source": [
    "one_x = [10.0, 8.0, 13.0, 9.0, 11.0, 14.0, 6.0, 4.0, 12.0, 7.0, 5.0]\n",
    "one_y = [8.04, 6.95, 7.58, 8.81, 8.33, 9.96, 7.24, 4.26, 10.84, 4.82, 5.68]\n",
    "two_x = [10.0, 8.0, 13.0, 9.0, 11.0, 14.0, 6.0, 4.0, 12.0, 7.0, 5.0]\n",
    "two_y = [9.14, 8.14, 8.74, 8.77, 9.26, 8.10, 6.13, 3.10, 9.13, 7.26, 4.74]\n",
    "three_x = [10.0, 8.0, 13.0, 9.0, 11.0, 14.0, 6.0, 4.0, 12.0, 7.0, 5.0]\n",
    "three_y = [7.46, 6.77, 12.74, 7.11, 7.81, 8.84, 6.08, 5.39, 8.15, 6.42, 5.73]\n",
    "four_x = [8.0, 8.0, 8.0, 8.0, 8.0, 8.0, 8.0, 19.0, 8.0, 8.0, 8.0]\n",
    "four_y = [6.58, 5.76, 7.71, 8.84, 8.47, 7.04, 5.25, 12.50, 5.56, 7.91, 6.89]\n",
    "\n",
    "xs = [one_x, two_x, three_x, four_x]\n",
    "ys = [one_y, two_y, three_y, four_y]"
   ]
  },
  {
   "cell_type": "markdown",
   "metadata": {},
   "source": [
    "Your first task is to load the data from Anscombe's quartet into a pandas [DataFrame](https://pandas.pydata.org/pandas-docs/stable/generated/pandas.DataFrame.html). This [guide](https://pandas.pydata.org/pandas-docs/stable/dsintro.html#dataframe) may be helpful if you are not already familiar with pandas."
   ]
  },
  {
   "cell_type": "code",
   "execution_count": null,
   "metadata": {
    "deletable": false,
    "nbgrader": {
     "cell_type": "code",
     "checksum": "a4b68ca56b23ee868fa7d84ca4889ca3",
     "grade": false,
     "grade_id": "cell-2b46fab363c326f0",
     "locked": false,
     "schema_version": 3,
     "solution": true
    }
   },
   "outputs": [],
   "source": [
    "# Save the values into a dataframe called `df` with column names \"x1\", \"x2\", \"x3\", \"x4\", \"y1\", \"y2\", \"y3\", \"y4\"\n",
    "# YOUR CODE HERE\n",
    "raise NotImplementedError()"
   ]
  },
  {
   "cell_type": "code",
   "execution_count": null,
   "metadata": {
    "deletable": false,
    "editable": false,
    "nbgrader": {
     "cell_type": "code",
     "checksum": "c7bf6a0b3cbdf04c828da0d0922e6d40",
     "grade": true,
     "grade_id": "cell-3bfc8754b6cb3fcd",
     "locked": true,
     "points": 10,
     "schema_version": 3,
     "solution": false
    }
   },
   "outputs": [],
   "source": [
    "assert isinstance(df, pd.DataFrame)\n",
    "assert all(col in df.columns for col in [\"x1\", \"x2\", \"x3\", \"x4\", \"y1\", \"y2\", \"y3\", \"y4\"])\n",
    "assert len(df) == 11"
   ]
  },
  {
   "cell_type": "markdown",
   "metadata": {},
   "source": [
    "In this next section, find the mean and variance of each series and compare the x's and y's. You may want to use the [Series.mean()](https://pandas.pydata.org/pandas-docs/version/0.22/generated/pandas.Series.mean.html) and [Series.var()](https://pandas.pydata.org/pandas-docs/version/0.22/generated/pandas.Series.var.html) or [DataFrame.mean()](https://pandas.pydata.org/pandas-docs/version/0.22/generated/pandas.DataFrame.mean.html) and [DataFrame.var()](https://pandas.pydata.org/pandas-docs/version/0.22/generated/pandas.DataFrame.var.html) functions"
   ]
  },
  {
   "cell_type": "code",
   "execution_count": null,
   "metadata": {
    "deletable": false,
    "nbgrader": {
     "cell_type": "code",
     "checksum": "9c25d4226885901b261f52fd6816a592",
     "grade": false,
     "grade_id": "cell-34448fbcbc07fc81",
     "locked": false,
     "schema_version": 3,
     "solution": true
    },
    "slideshow": {
     "slide_type": "slide"
    }
   },
   "outputs": [],
   "source": [
    "# Set the value of xmeans to a list of the mean of each of [\"x1\", \"x2\", \"x3\", \"x4\"]\n",
    "\n",
    "# YOUR CODE HERE\n",
    "raise NotImplementedError()\n",
    "\n",
    "\n",
    "for xmean, xSeries in zip(xmeans, [\"x1\", \"x2\", \"x3\", \"x4\"]):\n",
    "    print(f\"The mean of {xSeries} is {xmean}.\")"
   ]
  },
  {
   "cell_type": "code",
   "execution_count": null,
   "metadata": {
    "deletable": false,
    "editable": false,
    "nbgrader": {
     "cell_type": "code",
     "checksum": "dbcec5886e04a59dde2f09f87a588f03",
     "grade": true,
     "grade_id": "cell-e04b9f460d75aad8",
     "locked": true,
     "points": 10,
     "schema_version": 3,
     "solution": false
    }
   },
   "outputs": [],
   "source": [
    "np.testing.assert_allclose(np.array(xmeans), 9) "
   ]
  },
  {
   "cell_type": "code",
   "execution_count": null,
   "metadata": {
    "deletable": false,
    "nbgrader": {
     "cell_type": "code",
     "checksum": "8403484d161b4a29a2fc3875710db185",
     "grade": false,
     "grade_id": "ymeans",
     "locked": false,
     "schema_version": 3,
     "solution": true
    },
    "slideshow": {
     "slide_type": "slide"
    }
   },
   "outputs": [],
   "source": [
    "# Set the value of ymeans to a list of the mean of each of [\"y1\", \"y2\", \"y3\", \"y4\"]\n",
    "\n",
    "# YOUR CODE HERE\n",
    "raise NotImplementedError()\n",
    "\n",
    "\n",
    "for ymean, ySeries in zip(ymeans, [\"y1\", \"y2\", \"y3\", \"y4\"]):\n",
    "    print(f\"The mean of {ySeries} is {ymean}.\")"
   ]
  },
  {
   "cell_type": "code",
   "execution_count": null,
   "metadata": {
    "deletable": false,
    "editable": false,
    "nbgrader": {
     "cell_type": "code",
     "checksum": "9d12fe501411dafd3c774eb3f1a90605",
     "grade": true,
     "grade_id": "ymeans-test",
     "locked": true,
     "points": 10,
     "schema_version": 3,
     "solution": false
    }
   },
   "outputs": [],
   "source": [
    "np.testing.assert_allclose(np.array(ymeans), 7.5, atol=0.1) "
   ]
  },
  {
   "cell_type": "code",
   "execution_count": null,
   "metadata": {
    "deletable": false,
    "nbgrader": {
     "cell_type": "code",
     "checksum": "c788946d760a17fcfce71e53771e0822",
     "grade": false,
     "grade_id": "cell-e9e7895bdf3ae614",
     "locked": false,
     "schema_version": 3,
     "solution": true
    }
   },
   "outputs": [],
   "source": [
    "# Set the value of xvars to a list of the variance of each of [\"x1\", \"x2\", \"x3\", \"x4\"]\n",
    "\n",
    "# YOUR CODE HERE\n",
    "raise NotImplementedError()\n",
    "\n",
    "\n",
    "for xvar, xSeries in zip(xvars, [\"x1\", \"x2\", \"x3\", \"x4\"]):\n",
    "    print(f\"The mean of {xSeries} is {xvar}.\")"
   ]
  },
  {
   "cell_type": "code",
   "execution_count": null,
   "metadata": {
    "deletable": false,
    "editable": false,
    "nbgrader": {
     "cell_type": "code",
     "checksum": "ceb45f69739b6e606769bbeeb0509901",
     "grade": true,
     "grade_id": "cell-ae0d5b4b1d2e02f3",
     "locked": true,
     "points": 10,
     "schema_version": 3,
     "solution": false
    }
   },
   "outputs": [],
   "source": [
    "np.testing.assert_allclose(np.array(xvars), 11) "
   ]
  },
  {
   "cell_type": "code",
   "execution_count": null,
   "metadata": {
    "deletable": false,
    "nbgrader": {
     "cell_type": "code",
     "checksum": "de8ecbf160ae277457ca76d83bc18b48",
     "grade": false,
     "grade_id": "cell-61d16404c42f97f1",
     "locked": false,
     "schema_version": 3,
     "solution": true
    }
   },
   "outputs": [],
   "source": [
    "# Set the value of yvars to a list of the variance of each of [\"y1\", \"y2\", \"y3\", \"y4\"]\n",
    "\n",
    "# YOUR CODE HERE\n",
    "raise NotImplementedError()\n",
    "\n",
    "\n",
    "for yvar, ySeries in zip(yvars, [\"y1\", \"y2\", \"y3\", \"y4\"]):\n",
    "    print(f\"The mean of {ySeries} is {yvar}.\")"
   ]
  },
  {
   "cell_type": "code",
   "execution_count": null,
   "metadata": {
    "deletable": false,
    "editable": false,
    "nbgrader": {
     "cell_type": "code",
     "checksum": "6903614a6e706efb1328810e26bceaba",
     "grade": true,
     "grade_id": "cell-664ddc1141e9165a",
     "locked": true,
     "points": 10,
     "schema_version": 3,
     "solution": false
    }
   },
   "outputs": [],
   "source": [
    "np.testing.assert_allclose(np.array(yvars), 4.12, atol=0.01) "
   ]
  },
  {
   "cell_type": "markdown",
   "metadata": {},
   "source": [
    "In this next section, find the correlation and best fit line of each series and compare them. \n",
    "\n",
    "For correlation, you may find [Dataframe.corr](https://pandas.pydata.org/pandas-docs/stable/generated/pandas.DataFrame.corr.html) to be helpful. Also see [this stack overflow answer](https://stackoverflow.com/a/42580124/818687).\n",
    "\n",
    "For finding the best fit line, you may use [np.polyfit](https://docs.scipy.org/doc/numpy/reference/generated/numpy.polyfit.html)."
   ]
  },
  {
   "cell_type": "code",
   "execution_count": null,
   "metadata": {
    "deletable": false,
    "nbgrader": {
     "cell_type": "code",
     "checksum": "8c1246d2d07ef7c6e889cb4785f21c67",
     "grade": false,
     "grade_id": "cell-2a970ac465d6e52d",
     "locked": false,
     "schema_version": 3,
     "solution": true
    }
   },
   "outputs": [],
   "source": [
    "# Set the value of corrs to be a list of correlations between x and y for each series\n",
    "# Ex. the 0th index should be the correlation between x1 and y1\n",
    "\n",
    "# YOUR CODE HERE\n",
    "raise NotImplementedError()\n",
    "\n",
    "\n",
    "for c, xSeries, ySeries in zip(corrs, [\"x1\", \"x2\", \"x3\", \"x4\"], [\"y1\", \"y2\", \"y3\", \"y4\"]):\n",
    "    print(f\"The correlation between {xSeries} and {ySeries} is {c}.\")"
   ]
  },
  {
   "cell_type": "code",
   "execution_count": null,
   "metadata": {
    "deletable": false,
    "editable": false,
    "nbgrader": {
     "cell_type": "code",
     "checksum": "8c320c32d9897bbe49c6f705c34e9f07",
     "grade": true,
     "grade_id": "cell-2bc85947297ef229",
     "locked": true,
     "points": 10,
     "schema_version": 3,
     "solution": false
    },
    "slideshow": {
     "slide_type": "slide"
    }
   },
   "outputs": [],
   "source": [
    "np.testing.assert_allclose(np.array(corrs), 0.816, atol=0.01) "
   ]
  },
  {
   "cell_type": "code",
   "execution_count": null,
   "metadata": {
    "deletable": false,
    "nbgrader": {
     "cell_type": "code",
     "checksum": "51e1b7a53b1344304515e76a2a3d681d",
     "grade": false,
     "grade_id": "cell-e5dbbc03d0d125f4",
     "locked": false,
     "schema_version": 3,
     "solution": true
    }
   },
   "outputs": [],
   "source": [
    "# Determine the coefficients for each series and save them to the coeffs variable\n",
    "# Find the best fit line\n",
    "\n",
    "# YOUR CODE HERE\n",
    "raise NotImplementedError()\n",
    "\n",
    "for i, (m,b) in enumerate(coeffs):\n",
    "    print(f\"The fitted line for series {i+1} is y = {m}x + {b}\")"
   ]
  },
  {
   "cell_type": "code",
   "execution_count": null,
   "metadata": {
    "deletable": false,
    "editable": false,
    "nbgrader": {
     "cell_type": "code",
     "checksum": "74b3fd8406182c32cfce9d8e03b00ba2",
     "grade": true,
     "grade_id": "cell-e50306da72dca59c",
     "locked": true,
     "points": 10,
     "schema_version": 3,
     "solution": false
    }
   },
   "outputs": [],
   "source": [
    "np.testing.assert_allclose(np.array(coeffs), np.array([[0.5, 3.0], [0.5, 3.0], [0.5, 3.0], [0.5, 3.0]]), atol=0.01) "
   ]
  },
  {
   "cell_type": "markdown",
   "metadata": {},
   "source": [
    "From the above descriptive analytics, we would imagine all 3 datasets to be very similar. Let's plot them and see the patterns they exhibit."
   ]
  },
  {
   "cell_type": "code",
   "execution_count": null,
   "metadata": {
    "slideshow": {
     "slide_type": "-"
    }
   },
   "outputs": [],
   "source": [
    "buffer = 3\n",
    "maxX = max(max(xs[0]),max(xs[1]),max(xs[2]),max(xs[3]))\n",
    "maxY = max(max(ys[0]),max(ys[1]),max(ys[2]),max(ys[3]))\n",
    "\n",
    "x = np.arange(0,maxX+buffer)\n",
    "\n",
    "fig, pltAxes = plt.subplots(ncols=2, nrows=2, figsize=(12,8))\n",
    "axes = pltAxes.ravel()\n",
    "\n",
    "for i, ax in enumerate(axes):\n",
    "    fx = coeffs[i][0]* x + coeffs[i][1]\n",
    "    ax.plot(xs[i],ys[i],\"bo\")              # Plot the x and y values\n",
    "    ax.set_ylim(0, maxY + buffer)          # Use the same scale\n",
    "    ax.set_xlim(0, maxX + buffer)\n",
    "    ax.plot(x,fx,\"r-\")                      # Plot the line\n",
    "    ax.set_title(\"Series {}\".format(i+1), fontsize=12)   # Add the title for the dataset\n",
    "\n",
    "fig.suptitle(\"Plotting Anscombe's Quartet\", fontsize=14)\n",
    "fig.subplots_adjust(hspace=.5)\n",
    "\n",
    "plt.show()"
   ]
  },
  {
   "cell_type": "markdown",
   "metadata": {},
   "source": [
    "**We can see from the above plots that the data from each series is actually quite different.**\n",
    "\n",
    "- Series 1 exhibits a linear trend with some gaussian noise\n",
    "- Series 2 exhibits a parabolic trend\n",
    "- Series 3 exhibits a linear trend but has an outlier in the dataset\n",
    "- Series 4 has one outlier and the remaining points all in various y values for similar x values\n",
    "\n",
    "This shows us the importance of plotting data. Descriptive statistics are important, but they are not sufficient."
   ]
  },
  {
   "cell_type": "markdown",
   "metadata": {
    "slideshow": {
     "slide_type": "slide"
    }
   },
   "source": [
    "## Visual Encoding\n",
    "\n",
    "We are able to perceive information with varying accuracy and generality based on how it is encoded. The following list is of a variety of ways to encode information and it is sorted from most accurate to most general.\n",
    "\n",
    "\n",
    "*Most accurate*\n",
    "1. Points on a scale\n",
    "1. Length\n",
    "1. Direction / Angle\n",
    "1. Area\n",
    "1. Volume\n",
    "1. Shading and saturation\n",
    "1. Color and hue\n",
    "\n",
    "*Most general*\n"
   ]
  },
  {
   "cell_type": "markdown",
   "metadata": {
    "nbpresent": {
     "id": "09c6cf2b-2e36-4a90-a107-cc86163191ec"
    },
    "slideshow": {
     "slide_type": "slide"
    }
   },
   "source": [
    "## Plotting\n",
    "\n",
    "In this section we'll go over generating some random data and plotting them.\n",
    "\n",
    "We will use the pandas [DataFrame.plot](https://pandas.pydata.org/pandas-docs/stable/generated/pandas.DataFrame.plot.html) function as well as a variety of functions from [matplotlib](https://matplotlib.org/tutorials/index.html). This [visualization guide](https://pandas.pydata.org/pandas-docs/stable/visualization.html) from pandas is a great resource as well.\n",
    "\n",
    "\n",
    "There are many ways to visualize data. The following are commonly used plots and when to use them:\n",
    "\n",
    "1. Scatter plots - investigate the relationship between two variables\n",
    "1. Bar/column charts - compare values of multiple samples\n",
    "1. Histograms - investigate the distribution of the data\n",
    "1. Boxplots - compare distributions of variables\n",
    "1. Line charts - invetigate trends over time \n",
    "1. Pie charts - compare proportions (**You are usually better off using a different chart such as a bar chart**)\n"
   ]
  },
  {
   "cell_type": "markdown",
   "metadata": {},
   "source": [
    "### Scatter Plots\n",
    "\n",
    "Investigate the relationship between two variables"
   ]
  },
  {
   "cell_type": "code",
   "execution_count": null,
   "metadata": {},
   "outputs": [],
   "source": [
    "# A simple example of a scatter plot\n",
    "x = range(0,11,2)\n",
    "y = range(0,17,3) + np.random.rand(6)*2\n",
    "plt.plot(x,y, \"bo\")\n",
    "plt.xlabel(\"x\")\n",
    "plt.ylabel(\"y\")\n",
    "plt.title(\"x vs y\")\n",
    "plt.show()"
   ]
  },
  {
   "cell_type": "markdown",
   "metadata": {},
   "source": [
    "With scatter plots, we often want a reference line. This could be a best fit line or a mean/ specific percentile.\n",
    "\n",
    "For best fit line, consider using [poly1d](https://docs.scipy.org/doc/numpy-1.14.0/reference/generated/numpy.poly1d.html#numpy.poly1d)"
   ]
  },
  {
   "cell_type": "code",
   "execution_count": null,
   "metadata": {
    "deletable": false,
    "nbgrader": {
     "cell_type": "code",
     "checksum": "52312a1c033f39994cc6dfa933434fe2",
     "grade": true,
     "grade_id": "cell-b22b71b5e1906329",
     "locked": false,
     "points": 10,
     "schema_version": 3,
     "solution": true
    }
   },
   "outputs": [],
   "source": [
    "# Determine the best fit line and set the function or poly1d object to line\n",
    "\n",
    "# YOUR CODE HERE\n",
    "raise NotImplementedError()\n",
    "\n",
    "plt.plot(x,y,\"bo\")\n",
    "plt.plot(x, line(x))\n",
    "plt.xlabel(\"x\")\n",
    "plt.ylabel(\"y\")\n",
    "plt.title(\"x vs y\")\n",
    "plt.show()"
   ]
  },
  {
   "cell_type": "code",
   "execution_count": null,
   "metadata": {
    "deletable": false,
    "nbgrader": {
     "cell_type": "code",
     "checksum": "c24721862febca121f7a28d8c096bbbe",
     "grade": true,
     "grade_id": "cell-224d3300d6c7b42c",
     "locked": false,
     "points": 10,
     "schema_version": 3,
     "solution": true
    }
   },
   "outputs": [],
   "source": [
    "# Determine the average line and set the values to avg\n",
    "\n",
    "# YOUR CODE HERE\n",
    "raise NotImplementedError()\n",
    "\n",
    "plt.plot(x,y,\"bo\")\n",
    "plt.plot(x, avg)\n",
    "plt.xlabel(\"x\")\n",
    "plt.ylabel(\"y\")\n",
    "plt.title(\"x vs y\")\n",
    "plt.show()"
   ]
  },
  {
   "cell_type": "markdown",
   "metadata": {},
   "source": [
    "Now let's create some data with some correlations and look at how we can handle having more than just 2 features.\n",
    "\n",
    "In this example, we'll create 5 features."
   ]
  },
  {
   "cell_type": "code",
   "execution_count": null,
   "metadata": {},
   "outputs": [],
   "source": [
    "np.random.seed(0)\n",
    "\n",
    "a = 20 * np.random.normal(0, 1, 100) + 12\n",
    "b = a + 5 * np.random.rand(100) # Create a positive correlation with a\n",
    "c = a * 2 * np.random.normal(0,1,100) - (b * 4 * np.random.normal(0,1,100)) # Create a relationship with both a and b\n",
    "d = 45 * np.random.rand(100) \n",
    "e = -0.7* d -  10 * np.random.rand(100) # Create a negative correlation\n",
    "\n",
    "df = pd.DataFrame({\"a\":a, \"b\": b, \"c\":c, \"d\":d, \"e\": e})"
   ]
  },
  {
   "cell_type": "code",
   "execution_count": null,
   "metadata": {
    "slideshow": {
     "slide_type": "-"
    }
   },
   "outputs": [],
   "source": [
    "pd.plotting.scatter_matrix(df, figsize=(10, 10))\n",
    "plt.show()"
   ]
  },
  {
   "cell_type": "code",
   "execution_count": null,
   "metadata": {},
   "outputs": [],
   "source": [
    "# We can set the diagonal to be a density line instead of a histogram as well\n",
    "pd.plotting.scatter_matrix(df, figsize=(10, 10), diagonal=\"kde\")\n",
    "plt.show()"
   ]
  },
  {
   "cell_type": "markdown",
   "metadata": {},
   "source": [
    "Scatter matrixes are extremely useful when investigating data from more than 2 features. Feel free to modify the relationships between the 5 features and take a look at the resulting output. This will help you understand patterns when you see them in real world datasets.\n",
    "\n",
    "The [random module](https://docs.scipy.org/doc/numpy/reference/routines.random.html#distributions) from numpy has a variety of distributions that you can try out."
   ]
  },
  {
   "cell_type": "markdown",
   "metadata": {
    "nbpresent": {
     "id": "31c428b0-1466-4683-896b-782f16be37ac"
    },
    "slideshow": {
     "slide_type": "slide"
    }
   },
   "source": [
    "### Histograms\n",
    "\n",
    "Use histograms to understand the distribution of a data set."
   ]
  },
  {
   "cell_type": "code",
   "execution_count": null,
   "metadata": {
    "nbpresent": {
     "id": "38f3a15d-2a75-4f37-9064-03f5ae2af428"
    }
   },
   "outputs": [],
   "source": [
    "uniforms = [np.random.rand() for i in range(1000)]\n",
    "plt.hist(uniforms)\n",
    "plt.title(\"Generated Uniforms\")\n",
    "plt.show()"
   ]
  },
  {
   "cell_type": "code",
   "execution_count": null,
   "metadata": {
    "slideshow": {
     "slide_type": "-"
    }
   },
   "outputs": [],
   "source": [
    "normals = [np.random.normal() for i in range(1000)]\n",
    "plt.hist(normals)\n",
    "plt.title(\"Generated Normals\")\n",
    "plt.show()"
   ]
  },
  {
   "cell_type": "code",
   "execution_count": null,
   "metadata": {
    "slideshow": {
     "slide_type": "-"
    }
   },
   "outputs": [],
   "source": [
    "plt.hist(normals,100)\n",
    "plt.title(\"Generated Normals\")\n",
    "plt.show()"
   ]
  },
  {
   "cell_type": "code",
   "execution_count": null,
   "metadata": {
    "slideshow": {
     "slide_type": "-"
    }
   },
   "outputs": [],
   "source": [
    "plt.hist(normals,100, density=True)\n",
    "plt.title(\"Normalized Generated Normals\")\n",
    "plt.show()\n",
    "# Note the y axis!"
   ]
  },
  {
   "cell_type": "markdown",
   "metadata": {},
   "source": [
    "Selecting the number of bins for a histogram can lead to varying insights.\n",
    "\n",
    "\n",
    ">Histograms are fantastic, but make sure your bin-width/number is chosen well. This is the _exact_ same data, plotted with different bin-widths. Notice that the pattern doesn't necessarily get clearer as bin num increases.\n",
    "> - [Nick Strayer](https://twitter.com/NicholasStrayer)\n",
    "> [Twitter thread](https://twitter.com/NicholasStrayer/status/1026893778404225024)\n",
    "\n",
    "Check out the [demo](http://nickstrayer.me/histogram_bins/)\n",
    "\n"
   ]
  },
  {
   "cell_type": "markdown",
   "metadata": {},
   "source": [
    "There are proper ways to select the number of bins in a histogram. Some are outlined in [this guide](http://docs.astropy.org/en/stable/visualization/histogram.html) of a python library that you may use."
   ]
  },
  {
   "cell_type": "markdown",
   "metadata": {
    "nbpresent": {
     "id": "7f0af365-d0ca-488a-977c-5cc4a87b5e23"
    },
    "slideshow": {
     "slide_type": "slide"
    }
   },
   "source": [
    "### Bar Charts\n",
    "\n",
    "Bar charts are used to compare data.\n",
    "\n",
    "**Always start the feature scale at 0.**"
   ]
  },
  {
   "cell_type": "code",
   "execution_count": null,
   "metadata": {
    "nbpresent": {
     "id": "f466e0cf-9115-4ab9-b167-b769e3117963"
    }
   },
   "outputs": [],
   "source": [
    "# We'll generate some random sales data for 3 locations and 4 products\n",
    "locations = [\"Denver\", \"Golden\", \"Boulder\"]\n",
    "n = len(locations)\n",
    "np.random.seed(0)\n",
    "appleSales = [np.random.randint(3000,5000) for i in range(n)]\n",
    "orangeSales = [np.random.randint(2000,5000) for i in range(n)]\n",
    "avocadoSales = [np.random.randint(4000,5000) for i in range(n)]\n",
    "cherrySales = [np.random.randint(2500,5000) for i in range(n)]\n",
    "simpleSales = pd.DataFrame({\n",
    "    \"Location\": locations, \"Apples\": appleSales, \"Oranges\": orangeSales, \"Avocados\": avocadoSales, \"Cherries\": cherrySales\n",
    "})"
   ]
  },
  {
   "cell_type": "markdown",
   "metadata": {},
   "source": [
    "Here we'll start using the [DataFrame.plot method](https://pandas.pydata.org/pandas-docs/stable/generated/pandas.DataFrame.plot.html)."
   ]
  },
  {
   "cell_type": "code",
   "execution_count": null,
   "metadata": {},
   "outputs": [],
   "source": [
    "simpleSales[[\"Location\", \"Apples\"]].plot(kind=\"bar\", x=\"Location\", legend=False, title=\"Apple Sales\")\n",
    "plt.show()"
   ]
  },
  {
   "cell_type": "markdown",
   "metadata": {},
   "source": [
    "Column (vertical bar) charts are great but Bar charts (horizontal) make the labels much easier to read. You can see that in the following chart:"
   ]
  },
  {
   "cell_type": "code",
   "execution_count": null,
   "metadata": {},
   "outputs": [],
   "source": [
    "simpleSales[[\"Location\", \"Apples\"]].plot(kind=\"barh\", x=\"Location\", title=\"Apple Sales\", legend=None)\n",
    "plt.show()"
   ]
  },
  {
   "cell_type": "markdown",
   "metadata": {},
   "source": [
    "Bar charts are great for comparing samples. One way to make them more effective and easy to read is to sort the data's values. The default sorting isn't always useful so it's important to explicitly specify the sorting you'd want. You can do so by sorting the dataframe itself."
   ]
  },
  {
   "cell_type": "code",
   "execution_count": null,
   "metadata": {},
   "outputs": [],
   "source": [
    "simpleSales.sort_values(\"Apples\", ascending=False)[[\"Location\", \"Apples\"]].plot(kind=\"barh\", \n",
    "                                                                                x=\"Location\", \n",
    "                                                                                title=\"Apple Sales\", \n",
    "                                                                                legend=None)\n",
    "plt.show()"
   ]
  },
  {
   "cell_type": "markdown",
   "metadata": {},
   "source": [
    "Since we are perceiving the relative distance on a line, it is important that bar charts always start the scale at 0. We create very misleading charts by changing the minimum limit.\n",
    "\n",
    "**Bar charts should always start at 0**"
   ]
  },
  {
   "cell_type": "code",
   "execution_count": null,
   "metadata": {},
   "outputs": [],
   "source": [
    "simpleSales.sort_values(\"Apples\", ascending=False)[[\"Location\", \"Apples\"]].plot(kind=\"barh\", \n",
    "                                                                                x=\"Location\", \n",
    "                                                                                title=\"Misleading Apple Sales\", \n",
    "                                                                                legend=None)\n",
    "plt.xlim(3500, 5000)\n",
    "plt.show()"
   ]
  },
  {
   "cell_type": "markdown",
   "metadata": {
    "slideshow": {
     "slide_type": "slide"
    }
   },
   "source": [
    "* To compare multiple series, use side by side bars/columns instead of stacked bar charts. \n",
    "* Stacked bar charts make it difficult to compare values since they don't start at the same level."
   ]
  },
  {
   "cell_type": "code",
   "execution_count": null,
   "metadata": {},
   "outputs": [],
   "source": [
    "simpleSales.sort_values(\"Apples\", ascending=False).plot(kind=\"barh\", x=\"Location\")\n",
    "plt.title(\"Sales by Location\")\n",
    "plt.tight_layout()\n",
    "plt.legend(loc='upper center', bbox_to_anchor=(0.5, -.1),ncol=4)\n",
    "plt.show()"
   ]
  },
  {
   "cell_type": "markdown",
   "metadata": {
    "slideshow": {
     "slide_type": "slide"
    }
   },
   "source": [
    "## Boxplots\n",
    "\n",
    "Use boxplots to compare distributions."
   ]
  },
  {
   "cell_type": "code",
   "execution_count": null,
   "metadata": {},
   "outputs": [],
   "source": [
    "simpleSales[[\"Apples\", \"Oranges\", \"Avocados\", \"Cherries\"]].plot(kind=\"box\", title=\"Sales\")\n",
    "plt.ylim(0,5500)\n",
    "plt.title(\"Sales\")\n",
    "plt.show()"
   ]
  },
  {
   "cell_type": "markdown",
   "metadata": {},
   "source": [
    "In a boxplot, the line inside the boxplot represents the median and the box itself represents 50% of the data (showing the 25% and 75% quartiles). The lines at the end, outside the box show the minimum and maximum value.\n",
    "\n",
    "A great illustration of this is shown below:\n",
    "\n",
    "![https://www.wellbeingatschool.org.nz/information-sheet/understanding-and-interpreting-box-plots](https://www.wellbeingatschool.org.nz/sites/default/files/W@S_boxplot-labels.png)"
   ]
  },
  {
   "cell_type": "markdown",
   "metadata": {},
   "source": [
    "Similar to bar charts, we can also create horizontal boxplots."
   ]
  },
  {
   "cell_type": "code",
   "execution_count": null,
   "metadata": {
    "slideshow": {
     "slide_type": "-"
    }
   },
   "outputs": [],
   "source": [
    "simpleSales[[\"Apples\", \"Oranges\", \"Avocados\", \"Cherries\"]].plot(kind=\"box\", title=\"Sales\", vert=False)\n",
    "plt.xlim(0,5500)\n",
    "plt.title(\"Sales\")\n",
    "plt.show()"
   ]
  },
  {
   "cell_type": "markdown",
   "metadata": {
    "nbpresent": {
     "id": "dcb64358-b9c4-4cb1-9af0-caf1744dd5f3"
    },
    "slideshow": {
     "slide_type": "slide"
    }
   },
   "source": [
    "### Line Charts\n",
    "\n",
    "Line charts are used to plot continuous data. That is data about the same entity that changes over time."
   ]
  },
  {
   "cell_type": "code",
   "execution_count": null,
   "metadata": {},
   "outputs": [],
   "source": [
    "np.random.seed(0)\n",
    "nMonths = 12\n",
    "sales = [np.random.randint(2000,5000) for i in range(nMonths)]\n",
    "months = [str(i) for i in range(1,nMonths+1)]"
   ]
  },
  {
   "cell_type": "code",
   "execution_count": null,
   "metadata": {},
   "outputs": [],
   "source": [
    "plt.plot(sales)\n",
    "plt.xticks(range(len(sales)),months)\n",
    "plt.title(\"Sales over time\")\n",
    "plt.xlabel(\"Month\")\n",
    "plt.ylabel(\"Sales\")\n",
    "# plt.ylim(0, 6000) # Line charts do not have to start at 0 but it is often useful that they do\n",
    "plt.show()"
   ]
  },
  {
   "cell_type": "markdown",
   "metadata": {
    "slideshow": {
     "slide_type": "slide"
    }
   },
   "source": [
    "Graphing multiple lines on the same chart may be hard to follow."
   ]
  },
  {
   "cell_type": "code",
   "execution_count": null,
   "metadata": {},
   "outputs": [],
   "source": [
    "year_1 = [np.random.randint(3000,5000) for i in range(12)]\n",
    "year_2 = [np.random.randint(4000,5000) for i in range(12)]\n",
    "year_3 = [np.random.randint(2000,5000) for i in range(12)]"
   ]
  },
  {
   "cell_type": "code",
   "execution_count": null,
   "metadata": {},
   "outputs": [],
   "source": [
    "plt.plot(year_1, label=\"Year 1\")\n",
    "plt.plot(year_2, label=\"Year 2\")\n",
    "plt.plot(year_3, label=\"Year 3\")\n",
    "plt.xticks(range(len(year_1)),months)\n",
    "plt.legend(loc=\"best\")\n",
    "plt.title(\"Sales over time\")\n",
    "plt.xlabel(\"Month\")\n",
    "plt.ylabel(\"Sales\")\n",
    "# plt.ylim(0, 6000)\n",
    "plt.show()"
   ]
  },
  {
   "cell_type": "markdown",
   "metadata": {
    "slideshow": {
     "slide_type": "slide"
    }
   },
   "source": [
    "Instead, use multiple panels of line charts using the same scale. You can also add a line to show the average for all the data sets as a reference point."
   ]
  },
  {
   "cell_type": "code",
   "execution_count": null,
   "metadata": {},
   "outputs": [],
   "source": [
    "avg_year_1 = [np.mean(year_1)] * 12\n",
    "avg_year_2 = [np.mean(year_2)] * 12\n",
    "avg_year_3 = [np.mean(year_3)] * 12\n",
    "avg_total = [np.mean([year_1,year_2, year_3])] * 12\n",
    "\n",
    "buffer = 500\n",
    "maxY = max(max(year_1), max(year_2), max(year_3))\n",
    "minY = min(min(year_1), min(year_2), min(year_3))\n",
    "\n",
    "monthRange = range(1,13)\n",
    "\n",
    "monthlyMean = np.mean([year_1,year_2, year_3], axis=0)\n",
    "\n",
    "years = [year_1, year_2, year_3]\n",
    "averages = [avg_year_1, avg_year_2, avg_year_3]\n",
    "colors = [\"r-\", \"b-\", \"g-\"]\n",
    "\n",
    "fig, axes = plt.subplots(nrows=3)\n",
    "\n",
    "for i, ax in enumerate(axes):\n",
    "    ax.plot(monthRange ,years[i], colors[i])\n",
    "    ax.set_ylim(minY-buffer, maxY + buffer)\n",
    "    ax.set_xlim(1, 12)\n",
    "    ax.set_title(\"Year {}\".format(i+1), fontsize=6)\n",
    "#     ax.plot(monthRange, avg_year_1, \"r--\")\n",
    "#     ax.plot(monthRange, avg_year_2, \"b--\")\n",
    "#     ax.plot(monthRange, avg_year_3, \"g--\")\n",
    "#     ax.plot(monthRange, avg_total, \"k--\")\n",
    "#     ax.plot(monthRange, monthlyMean, \"k--\")\n",
    "\n",
    "\n",
    "fig.suptitle(\"Comparing yearly performance\", fontsize=9)\n",
    "fig.subplots_adjust(hspace=.5)\n",
    "plt.show()"
   ]
  },
  {
   "cell_type": "markdown",
   "metadata": {},
   "source": [
    "Having the data appear in panels allows us to see the trend of each year and also compare how sales were across years for a given month."
   ]
  },
  {
   "cell_type": "markdown",
   "metadata": {
    "slideshow": {
     "slide_type": "slide"
    }
   },
   "source": [
    "### Pie Charts\n",
    "\n",
    "Pie charts can be used to show proportion of data. You shouldn't use pie charts as there are usually better ways to display the same information. You can read more about why [here](http://www.businessinsider.com/pie-charts-are-the-worst-2013-6)."
   ]
  },
  {
   "cell_type": "code",
   "execution_count": null,
   "metadata": {},
   "outputs": [],
   "source": [
    "percentSales = pd.Series(year_1, index=range(1,13), name=\"Sales\")\n",
    "\n",
    "percentSales.sort_values(ascending=True).plot(kind=\"pie\")\n",
    "plt.show()"
   ]
  },
  {
   "cell_type": "markdown",
   "metadata": {},
   "source": [
    "Even though the data in the pie chart is sorted, it is still difficult to determine which month had the highest percent sales."
   ]
  },
  {
   "cell_type": "markdown",
   "metadata": {},
   "source": [
    "In this section, plot the same data using a bar chart instead of a pie chart. Make sure you sort the values when presenting the information."
   ]
  },
  {
   "cell_type": "code",
   "execution_count": null,
   "metadata": {
    "deletable": false,
    "nbgrader": {
     "cell_type": "code",
     "checksum": "b3ecf72694a7e3324d6de7bdd536472a",
     "grade": true,
     "grade_id": "cell-cc2fd888aa5a24ff",
     "locked": false,
     "points": 10,
     "schema_version": 3,
     "solution": true
    }
   },
   "outputs": [],
   "source": [
    "# YOUR CODE HERE\n",
    "raise NotImplementedError()\n",
    "print(\"The month with the highest sales is...\")"
   ]
  },
  {
   "cell_type": "markdown",
   "metadata": {},
   "source": [
    "From your chart, you should be able to easily determine the month with the highest sales."
   ]
  },
  {
   "cell_type": "markdown",
   "metadata": {
    "slideshow": {
     "slide_type": "slide"
    }
   },
   "source": [
    "## Choosing a visualization\n",
    "\n",
    "Still not sure which visualization to use?\n",
    "\n",
    "Use [this flow chart](https://extremepresentation.typepad.com/files/choosing-a-good-chart-09.pdf)"
   ]
  },
  {
   "cell_type": "markdown",
   "metadata": {
    "collapsed": true
   },
   "source": [
    "## Feedback"
   ]
  },
  {
   "cell_type": "code",
   "execution_count": null,
   "metadata": {
    "deletable": false,
    "nbgrader": {
     "cell_type": "code",
     "checksum": "690131002f1885db7f6ca9d3a06f5552",
     "grade": false,
     "grade_id": "cell-a96e2ab81584b833",
     "locked": false,
     "schema_version": 3,
     "solution": true
    }
   },
   "outputs": [],
   "source": [
    "def feedback():\n",
    "    \"\"\"Provide feedback on the contents of this exercise\n",
    "    \n",
    "    Returns:\n",
    "        string\n",
    "    \"\"\"\n",
    "    # YOUR CODE HERE\n",
    "    raise NotImplementedError()"
   ]
  },
  {
   "cell_type": "code",
   "execution_count": null,
   "metadata": {
    "deletable": false,
    "editable": false,
    "nbgrader": {
     "cell_type": "code",
     "checksum": "bb0cd48b403c97761e1c48d2cb445c0b",
     "grade": true,
     "grade_id": "cell-a61433551b1618ef",
     "locked": true,
     "points": 0,
     "schema_version": 3,
     "solution": false
    }
   },
   "outputs": [],
   "source": []
  }
 ],
 "metadata": {
  "anaconda-cloud": {},
  "kernelspec": {
   "display_name": "iml-exercises",
   "language": "python",
   "name": "iml-exercises"
  },
  "language_info": {
   "codemirror_mode": {
    "name": "ipython",
    "version": 3
   },
   "file_extension": ".py",
   "mimetype": "text/x-python",
   "name": "python",
   "nbconvert_exporter": "python",
   "pygments_lexer": "ipython3",
   "version": "3.6.5"
  },
  "nbpresent": {
   "slides": {
    "0b99fe61-7398-4561-84b9-5c134d1c3fd6": {
     "id": "0b99fe61-7398-4561-84b9-5c134d1c3fd6",
     "prev": "ace6387a-e159-4baa-be6d-3f97308e5f3c",
     "regions": {
      "2b17ef4e-3b73-466e-82bb-10724107006d": {
       "attrs": {
        "height": 0.4,
        "width": 0.8,
        "x": 0.1,
        "y": 0.5
       },
       "content": {
        "cell": "321d252a-b2bc-4d47-b0ae-f27c0c924558",
        "part": "whole"
       },
       "id": "2b17ef4e-3b73-466e-82bb-10724107006d"
      },
      "422b67cf-9e4c-444f-a91c-587f92f243df": {
       "attrs": {
        "height": 0.8,
        "width": 0.8,
        "x": 0.1,
        "y": 0.1
       },
       "content": {
        "cell": "09c6cf2b-2e36-4a90-a107-cc86163191ec",
        "part": "whole"
       },
       "id": "422b67cf-9e4c-444f-a91c-587f92f243df"
      }
     }
    },
    "1b102aaa-e477-4178-8402-b942083931a2": {
     "id": "1b102aaa-e477-4178-8402-b942083931a2",
     "prev": "233f30f3-b8a0-4461-a37b-b67a4eac3a17",
     "regions": {
      "b30ecc92-19e4-498a-aa43-e4be951015aa": {
       "attrs": {
        "height": 0.8,
        "width": 0.8,
        "x": 0.1,
        "y": 0.1
       },
       "content": {
        "cell": "317fe152-3c21-4bc5-8c55-42db5a23e903",
        "part": "whole"
       },
       "id": "b30ecc92-19e4-498a-aa43-e4be951015aa"
      }
     }
    },
    "1c670c19-7f3c-4b20-aa2d-7436bb7925ec": {
     "id": "1c670c19-7f3c-4b20-aa2d-7436bb7925ec",
     "prev": "d2316dc4-7cbd-4b98-9e20-cc576f37f0fd",
     "regions": {
      "cc71ef9a-aa4c-449c-8bdc-7718e68d6e22": {
       "attrs": {
        "height": 0.8,
        "width": 0.8,
        "x": 0.1,
        "y": 0.1
       },
       "content": {
        "cell": "31eb5ebb-22c7-411f-9ffb-6d35e721a934",
        "part": "whole"
       },
       "id": "cc71ef9a-aa4c-449c-8bdc-7718e68d6e22"
      }
     }
    },
    "233f30f3-b8a0-4461-a37b-b67a4eac3a17": {
     "id": "233f30f3-b8a0-4461-a37b-b67a4eac3a17",
     "prev": "64bd6c5c-8971-41a0-a919-b48eeee981d9",
     "regions": {
      "c135a7ed-fd57-435e-ab99-2b28acbab079": {
       "attrs": {
        "height": 0.8,
        "width": 0.8,
        "x": 0.1,
        "y": 0.1
       },
       "content": {
        "cell": "3536c02b-bccf-4e88-87a7-642b11d6a16f",
        "part": "whole"
       },
       "id": "c135a7ed-fd57-435e-ab99-2b28acbab079"
      }
     }
    },
    "2ef73c84-2c97-420b-94ca-b5e89714ebdc": {
     "id": "2ef73c84-2c97-420b-94ca-b5e89714ebdc",
     "prev": "7c09dbaa-679b-4cb7-aeec-f3eb99474031",
     "regions": {
      "e9302df3-5519-4f8a-b3ea-3ac9c5a9a822": {
       "attrs": {
        "height": 0.8,
        "width": 0.8,
        "x": 0.1,
        "y": 0.1
       },
       "content": {
        "cell": "0a937ed7-f1dd-4b79-8e32-886daefc6460",
        "part": "whole"
       },
       "id": "e9302df3-5519-4f8a-b3ea-3ac9c5a9a822"
      }
     }
    },
    "42fc1bfe-8bf5-4adf-8eb4-a9c1ea6462e1": {
     "id": "42fc1bfe-8bf5-4adf-8eb4-a9c1ea6462e1",
     "prev": "a2871d4f-6d21-4fa4-9c55-744dab3a7dce",
     "regions": {
      "00b10b32-76ac-4e45-b5a0-d84154e046ec": {
       "attrs": {
        "height": 0.4,
        "width": 0.8,
        "x": 0.1,
        "y": 0.5
       },
       "content": {
        "cell": "1a882fae-f881-4dc7-af93-50a79b7b1039",
        "part": "whole"
       },
       "id": "00b10b32-76ac-4e45-b5a0-d84154e046ec"
      },
      "49a9c9d6-0772-4a7e-88b0-3d19a2a477ae": {
       "attrs": {
        "height": 0.8,
        "width": 0.8,
        "x": 0.1,
        "y": 0.1
       },
       "content": {
        "cell": "a23c86a4-297d-46cb-94bc-a8b9fc881340",
        "part": "whole"
       },
       "id": "49a9c9d6-0772-4a7e-88b0-3d19a2a477ae"
      }
     }
    },
    "64bd6c5c-8971-41a0-a919-b48eeee981d9": {
     "id": "64bd6c5c-8971-41a0-a919-b48eeee981d9",
     "prev": "1c670c19-7f3c-4b20-aa2d-7436bb7925ec",
     "regions": {
      "66a95b73-510b-4863-b558-87de7162bb82": {
       "attrs": {
        "height": 0.8,
        "width": 0.8,
        "x": 0.1,
        "y": 0.1
       },
       "content": {
        "cell": "019ece3e-ecc8-4119-b2dc-a349a58676c4",
        "part": "whole"
       },
       "id": "66a95b73-510b-4863-b558-87de7162bb82"
      },
      "e109e960-549a-4668-83de-83d05367800d": {
       "attrs": {
        "height": 0.4,
        "width": 0.8,
        "x": 0.1,
        "y": 0.5
       },
       "content": {
        "cell": "5b307363-6324-439a-a352-b54e3eacccaa",
        "part": "whole"
       },
       "id": "e109e960-549a-4668-83de-83d05367800d"
      }
     }
    },
    "7c09dbaa-679b-4cb7-aeec-f3eb99474031": {
     "id": "7c09dbaa-679b-4cb7-aeec-f3eb99474031",
     "prev": "ae41af5b-8aa3-4267-9994-e6d2d1b86ce2",
     "regions": {
      "839444e1-fe61-4092-b369-acf7e2451180": {
       "attrs": {
        "height": 0.8,
        "width": 0.8,
        "x": 0.1,
        "y": 0.1
       },
       "content": {
        "cell": "a8214ac4-fd3d-4d18-966d-48e05ca35866",
        "part": "whole"
       },
       "id": "839444e1-fe61-4092-b369-acf7e2451180"
      }
     }
    },
    "90e76f3b-ffeb-47e0-bf91-a3e667d65302": {
     "id": "90e76f3b-ffeb-47e0-bf91-a3e667d65302",
     "prev": "bfbd0026-5474-4cbc-a2c3-2c057503a066",
     "regions": {
      "3a877627-c8a2-4f43-9bf1-432bb4fa4148": {
       "attrs": {
        "height": 0.8,
        "width": 0.8,
        "x": 0.1,
        "y": 0.1
       },
       "content": {
        "cell": "dcb64358-b9c4-4cb1-9af0-caf1744dd5f3",
        "part": "whole"
       },
       "id": "3a877627-c8a2-4f43-9bf1-432bb4fa4148"
      },
      "a656570a-849d-46e6-b419-82875af53661": {
       "attrs": {
        "height": 0.4,
        "width": 0.8,
        "x": 0.1,
        "y": 0.5
       },
       "content": {
        "cell": "f466e0cf-9115-4ab9-b167-b769e3117963",
        "part": "whole"
       },
       "id": "a656570a-849d-46e6-b419-82875af53661"
      }
     }
    },
    "a2871d4f-6d21-4fa4-9c55-744dab3a7dce": {
     "id": "a2871d4f-6d21-4fa4-9c55-744dab3a7dce",
     "prev": "dc63a645-fdf4-401f-8940-72550ab5040d",
     "regions": {
      "39aa12c5-cecd-4e19-90f1-0ca3b13ae946": {
       "attrs": {
        "height": 0.8,
        "width": 0.8,
        "x": 0.1,
        "y": 0.1
       },
       "content": {
        "cell": "8776cc2f-d9d2-4b92-a387-4852f26a8b18",
        "part": "whole"
       },
       "id": "39aa12c5-cecd-4e19-90f1-0ca3b13ae946"
      }
     }
    },
    "ace6387a-e159-4baa-be6d-3f97308e5f3c": {
     "id": "ace6387a-e159-4baa-be6d-3f97308e5f3c",
     "prev": "1b102aaa-e477-4178-8402-b942083931a2",
     "regions": {
      "47a59407-04f3-412b-a770-aa31b523defd": {
       "attrs": {
        "height": 0.8,
        "width": 0.8,
        "x": 0.1,
        "y": 0.1
       },
       "content": {
        "cell": "04ccb4fd-cdf6-4456-8f27-875f284c3199",
        "part": "whole"
       },
       "id": "47a59407-04f3-412b-a770-aa31b523defd"
      }
     }
    },
    "ae41af5b-8aa3-4267-9994-e6d2d1b86ce2": {
     "id": "ae41af5b-8aa3-4267-9994-e6d2d1b86ce2",
     "prev": "90e76f3b-ffeb-47e0-bf91-a3e667d65302",
     "regions": {
      "749722e5-bbfa-42f5-bd3c-df06cb7003e1": {
       "attrs": {
        "height": 0.8,
        "width": 0.8,
        "x": 0.1,
        "y": 0.1
       },
       "content": {
        "cell": "31c428b0-1466-4683-896b-782f16be37ac",
        "part": "whole"
       },
       "id": "749722e5-bbfa-42f5-bd3c-df06cb7003e1"
      },
      "cdc82219-dfb2-456a-889a-0598dd8e2960": {
       "attrs": {
        "height": 0.4,
        "width": 0.8,
        "x": 0.1,
        "y": 0.5
       },
       "content": {
        "cell": "38f3a15d-2a75-4f37-9064-03f5ae2af428",
        "part": "whole"
       },
       "id": "cdc82219-dfb2-456a-889a-0598dd8e2960"
      }
     }
    },
    "b5ac035c-9942-4513-8b63-0d148835941b": {
     "id": "b5ac035c-9942-4513-8b63-0d148835941b",
     "prev": "2ef73c84-2c97-420b-94ca-b5e89714ebdc",
     "regions": {
      "dc38adc1-7cfc-44c0-b69c-461040ba0fcf": {
       "attrs": {
        "height": 0.8,
        "width": 0.8,
        "x": 0.1,
        "y": 0.1
       },
       "content": {
        "cell": "7fc5826f-47e9-47c6-abca-d0c4f7e0579c",
        "part": "whole"
       },
       "id": "dc38adc1-7cfc-44c0-b69c-461040ba0fcf"
      }
     }
    },
    "bfbd0026-5474-4cbc-a2c3-2c057503a066": {
     "id": "bfbd0026-5474-4cbc-a2c3-2c057503a066",
     "prev": "0b99fe61-7398-4561-84b9-5c134d1c3fd6",
     "regions": {
      "30edb637-8d92-4231-89d4-e8d698f939d0": {
       "attrs": {
        "height": 0.8,
        "width": 0.8,
        "x": 0.1,
        "y": 0.1
       },
       "content": {
        "cell": "7f0af365-d0ca-488a-977c-5cc4a87b5e23",
        "part": "whole"
       },
       "id": "30edb637-8d92-4231-89d4-e8d698f939d0"
      },
      "80363a7b-a3e1-40f8-9aff-d064bda8785e": {
       "attrs": {
        "height": 0.4,
        "width": 0.8,
        "x": 0.1,
        "y": 0.5
       },
       "content": {
        "cell": "992ae9c3-fe97-42b1-99f4-69c889952fb9",
        "part": "whole"
       },
       "id": "80363a7b-a3e1-40f8-9aff-d064bda8785e"
      }
     }
    },
    "d2316dc4-7cbd-4b98-9e20-cc576f37f0fd": {
     "id": "d2316dc4-7cbd-4b98-9e20-cc576f37f0fd",
     "prev": null,
     "regions": {
      "d629502c-d5f7-4d00-a25e-5b95e365d147": {
       "attrs": {
        "height": 0.8,
        "width": 0.8,
        "x": 0.1,
        "y": 0.1
       },
       "content": {
        "cell": "02b7d99e-4b8f-4583-9ca4-18e6c07e7392",
        "part": "whole"
       },
       "id": "d629502c-d5f7-4d00-a25e-5b95e365d147"
      }
     }
    },
    "dc63a645-fdf4-401f-8940-72550ab5040d": {
     "id": "dc63a645-fdf4-401f-8940-72550ab5040d",
     "prev": "b5ac035c-9942-4513-8b63-0d148835941b",
     "regions": {
      "7fd267ef-d65f-424e-ae51-e334d08f882b": {
       "attrs": {
        "height": 0.8,
        "width": 0.8,
        "x": 0.1,
        "y": 0.1
       },
       "content": {
        "cell": "b98864c6-7d0f-4590-96c3-62b136bb7a3f",
        "part": "whole"
       },
       "id": "7fd267ef-d65f-424e-ae51-e334d08f882b"
      }
     }
    }
   },
   "themes": {
    "default": "4673efb9-9b38-4c9e-bca9-6b68944f37b4",
    "theme": {
     "4673efb9-9b38-4c9e-bca9-6b68944f37b4": {
      "backgrounds": {
       "backgroundColor": {
        "background-color": "backgroundColor",
        "id": "backgroundColor"
       }
      },
      "id": "4673efb9-9b38-4c9e-bca9-6b68944f37b4",
      "palette": {
       "backgroundColor": {
        "id": "backgroundColor",
        "rgb": [
         247,
         251,
         252
        ]
       },
       "headingColor": {
        "id": "headingColor",
        "rgb": [
         51,
         51,
         51
        ]
       },
       "linkColor": {
        "id": "linkColor",
        "rgb": [
         59,
         117,
         158
        ]
       },
       "mainColor": {
        "id": "mainColor",
        "rgb": [
         51,
         51,
         51
        ]
       }
      },
      "rules": {
       "a": {
        "color": "linkColor"
       },
       "h1": {
        "color": "headingColor",
        "font-family": "Quicksand",
        "font-size": 7
       },
       "h2": {
        "color": "headingColor",
        "font-family": "Quicksand",
        "font-size": 5
       },
       "h3": {
        "color": "headingColor",
        "font-family": "Quicksand",
        "font-size": 3.75
       },
       "h4": {
        "color": "headingColor",
        "font-family": "Quicksand",
        "font-size": 3
       },
       "h5": {
        "color": "headingColor",
        "font-family": "Quicksand"
       },
       "h6": {
        "color": "headingColor",
        "font-family": "Quicksand"
       },
       "h7": {
        "color": "headingColor",
        "font-family": "Quicksand"
       },
       "li": {
        "color": "mainColor",
        "font-family": "Open Sans",
        "font-size": 5
       },
       "p": {
        "color": "mainColor",
        "font-family": "Open Sans",
        "font-size": 5
       }
      },
      "text-base": {
       "color": "mainColor",
       "font-family": "Open Sans",
       "font-size": 5
      }
     }
    }
   }
  }
 },
 "nbformat": 4,
 "nbformat_minor": 2
}
